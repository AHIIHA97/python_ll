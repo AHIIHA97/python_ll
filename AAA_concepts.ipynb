{
 "cells": [
  {
   "cell_type": "markdown",
   "id": "a134f246",
   "metadata": {},
   "source": [
    "## data types:\n",
    "- str ('singleq' ot \"doubleq\")\n",
    "- int \n",
    "- float (1.4567)\n",
    "- complex (1j)\n",
    "- boolean (True, False)"
   ]
  },
  {
   "cell_type": "code",
   "execution_count": null,
   "id": "674b38f3",
   "metadata": {},
   "outputs": [
    {
     "data": {
      "text/plain": [
       "complex"
      ]
     },
     "execution_count": 1,
     "metadata": {},
     "output_type": "execute_result"
    }
   ],
   "source": [
    "a = 23j\n",
    "type(a)"
   ]
  },
  {
   "cell_type": "markdown",
   "id": "12130131",
   "metadata": {},
   "source": [
    "### NB FLOAT\n",
    "float are approximation, for precise decimal output, use ROUND"
   ]
  },
  {
   "cell_type": "code",
   "execution_count": null,
   "id": "5a6d3e28",
   "metadata": {},
   "outputs": [
    {
     "name": "stdout",
     "output_type": "stream",
     "text": [
      "float ouput 1.5-1.4 seems not correct: 0.10000000000000009\n",
      "correct rounded ouput round(1.5-1.4, 3) is: 0.1\n"
     ]
    }
   ],
   "source": [
    "print(f\"float ouput 1.5-1.4 seems not correct: {1.5-1.4}\")\n",
    "print(f\"correct rounded ouput round(1.5-1.4, 3) is: {round(1.5-1.4, 3)}\")"
   ]
  },
  {
   "cell_type": "markdown",
   "id": "96ca7d3a",
   "metadata": {},
   "source": [
    "### NB boolean"
   ]
  },
  {
   "cell_type": "code",
   "execution_count": null,
   "id": "4e793fbb",
   "metadata": {},
   "outputs": [
    {
     "data": {
      "text/plain": [
       "False"
      ]
     },
     "execution_count": 46,
     "metadata": {},
     "output_type": "execute_result"
    }
   ],
   "source": [
    "# output 'False', all rest output 'True'\n",
    "bool('')\n",
    "bool(0)\n",
    "bool()\n",
    "bool([])\n",
    "bool({})"
   ]
  },
  {
   "cell_type": "code",
   "execution_count": 49,
   "id": "534cc704",
   "metadata": {},
   "outputs": [
    {
     "name": "stdout",
     "output_type": "stream",
     "text": [
      "go!\n"
     ]
    }
   ],
   "source": [
    "ombr = False\n",
    "schWet = True\n",
    "\n",
    "if ombr or schWet:\n",
    "    print('go!')\n",
    "else:\n",
    "    print('stay')"
   ]
  },
  {
   "cell_type": "markdown",
   "id": "f30c32ff",
   "metadata": {},
   "source": [
    "### NB Strings"
   ]
  },
  {
   "cell_type": "code",
   "execution_count": null,
   "id": "dce0e874",
   "metadata": {},
   "outputs": [
    {
     "name": "stdout",
     "output_type": "stream",
     "text": [
      "\n",
      "MULTI LINE STRING untils '''\n",
      "I am still in the string\n",
      "still in the string \n",
      "\n"
     ]
    }
   ],
   "source": [
    "'my age is '+str(55)\n",
    "f'my age is {50+5}'\n",
    "\n",
    "manyLine = '''\n",
    "MULTI LINE STRING until \\'\\'\\'\n",
    "I am still in the string\n",
    "still in the string \n",
    "'''\n",
    "print(manyLine)"
   ]
  },
  {
   "cell_type": "code",
   "execution_count": null,
   "id": "3f35fc86",
   "metadata": {},
   "outputs": [
    {
     "data": {
      "text/plain": [
       "True"
      ]
     },
     "execution_count": 63,
     "metadata": {},
     "output_type": "execute_result"
    }
   ],
   "source": [
    "int('101',2) #number in base10 corresponding to 101 in base2 = 1*2\n",
    "bool(-1) == 1\n",
    "bool(-1)"
   ]
  },
  {
   "cell_type": "markdown",
   "id": "6d103ebc",
   "metadata": {},
   "source": [
    "## Data structures:\n",
    "- list (ordered, mutable, allows duplicates, [])\n",
    "- set (unordered, mutable, no duplicates, {})\n",
    "- tuple (ordered, immutable, allows duplicates, ()) - memory efficient, often default\n",
    "- dictionary (unordered, mutable, key-value pairs, {})\n",
    "<br><br>\n",
    "\n",
    "- .append() in list & dict; .add() in set\n",
    "- .pop() in list and set\n",
    "- .discard() in set"
   ]
  },
  {
   "cell_type": "code",
   "execution_count": 284,
   "id": "c509fe25",
   "metadata": {},
   "outputs": [
    {
     "name": "stdout",
     "output_type": "stream",
     "text": [
      "[1, 2, 3, 4, 5]\n"
     ]
    },
    {
     "data": {
      "text/plain": [
       "5"
      ]
     },
     "execution_count": 284,
     "metadata": {},
     "output_type": "execute_result"
    }
   ],
   "source": [
    "liist = [1, 2, 3, 4, 5]\n",
    "print(liist)\n",
    "len(liist)"
   ]
  },
  {
   "cell_type": "code",
   "execution_count": 285,
   "id": "fe8d4937",
   "metadata": {},
   "outputs": [
    {
     "name": "stdout",
     "output_type": "stream",
     "text": [
      "[1, 2, 3, 4]\n",
      "[1, 2, 3, 4, 'stup', 1, 2, 3]\n"
     ]
    }
   ],
   "source": [
    "# remove last element and returns it\n",
    "liist.pop()\n",
    "print(liist)\n",
    "\n",
    "# append\n",
    "vals = ['stup', 1, 2, 3]\n",
    "for i in vals:\n",
    "    liist.append(i)\n",
    "\n",
    "print(liist)"
   ]
  },
  {
   "cell_type": "code",
   "execution_count": null,
   "id": "63024e13",
   "metadata": {},
   "outputs": [],
   "source": [
    "# remove duplicates in a list, list is tossed - no order kept\n",
    "dedup_l = set(liist)\n",
    "print(dedup_l)"
   ]
  },
  {
   "cell_type": "code",
   "execution_count": 296,
   "id": "674bcbec",
   "metadata": {},
   "outputs": [
    {
     "name": "stdout",
     "output_type": "stream",
     "text": [
      "{1, 2, 21}\n"
     ]
    },
    {
     "data": {
      "text/plain": [
       "True"
      ]
     },
     "execution_count": 296,
     "metadata": {},
     "output_type": "execute_result"
    }
   ],
   "source": [
    "seet = {1,21,2,1,21}\n",
    "print(seet)\n",
    "len(seet)\n",
    "\n",
    "seet1 = {21,1,2}\n",
    "seet == seet1\n"
   ]
  },
  {
   "cell_type": "code",
   "execution_count": null,
   "id": "6c45f43d",
   "metadata": {},
   "outputs": [
    {
     "name": "stdout",
     "output_type": "stream",
     "text": [
      "{1, 2, 'stup', 21}\n",
      "{1, 'stup', 21}\n"
     ]
    }
   ],
   "source": [
    "# .append in lists is equivalent to .add in sets\n",
    "seet1.add('stup')\n",
    "print(seet1)\n",
    "\n",
    "# remove element from set\n",
    "seet1.discard(2)\n",
    "print(seet1)"
   ]
  },
  {
   "cell_type": "code",
   "execution_count": 293,
   "id": "78c01e02",
   "metadata": {},
   "outputs": [
    {
     "name": "stdout",
     "output_type": "stream",
     "text": [
      "1\n",
      "2\n",
      "stup\n",
      "21\n"
     ]
    },
    {
     "data": {
      "text/plain": [
       "set()"
      ]
     },
     "execution_count": 293,
     "metadata": {},
     "output_type": "execute_result"
    }
   ],
   "source": [
    "# len(set) = True until len(set)>0\n",
    "while len(seet1):\n",
    "    print(seet1.pop())\n",
    "\n",
    "seet1"
   ]
  },
  {
   "cell_type": "code",
   "execution_count": 5,
   "id": "a10dd530",
   "metadata": {},
   "outputs": [
    {
     "name": "stdout",
     "output_type": "stream",
     "text": [
      "(1, 2, 5, 4, 5)\n"
     ]
    },
    {
     "data": {
      "text/plain": [
       "5"
      ]
     },
     "execution_count": 5,
     "metadata": {},
     "output_type": "execute_result"
    }
   ],
   "source": [
    "tuuple = (1, 2, 5, 4, 5)\n",
    "# tuuple.append(9)\n",
    "print(tuuple)\n",
    "len(tuuple)"
   ]
  },
  {
   "cell_type": "code",
   "execution_count": 11,
   "id": "75dc8efb",
   "metadata": {},
   "outputs": [
    {
     "name": "stdout",
     "output_type": "stream",
     "text": [
      "{'key1': 'value1', 'key2': 'value2', 'key3': 'value3'}\n"
     ]
    },
    {
     "data": {
      "text/plain": [
       "3"
      ]
     },
     "execution_count": 11,
     "metadata": {},
     "output_type": "execute_result"
    }
   ],
   "source": [
    "dict = {\n",
    "    'key1': 'value1',\n",
    "    'key2': 'value2',\n",
    "    'key3': 'value3'\n",
    "}\n",
    "\n",
    "print(dict)\n",
    "len(dict)"
   ]
  },
  {
   "cell_type": "code",
   "execution_count": null,
   "id": "3c8356ed",
   "metadata": {},
   "outputs": [
    {
     "name": "stdout",
     "output_type": "stream",
     "text": [
      "{'a': ['antelope', 'antelope'], 'b': ['bat', 'bison'], 'c': ['cat']}\n",
      "{'a': ['antelope', 'antelope'], 'b': ['bat', 'bison'], 'c': ['cat', 'chicken']}\n"
     ]
    }
   ],
   "source": [
    "animals = {\n",
    "    'a' : ['antelope'],\n",
    "    'b' : ['bat', 'bison'], # trailing comma\n",
    "}\n",
    "type(animals)\n",
    "\n",
    "animals['a'].append('antelope')\n",
    "animals['c'] = ['cat']\n",
    "print(animals)\n",
    "\n",
    "# trick to avoid overriding when not sure a key is present\n",
    "if 'c' not in animals:\n",
    "    animals['c'] = []\n",
    "animals['c'].append('chicken')\n",
    "print(animals)"
   ]
  },
  {
   "cell_type": "code",
   "execution_count": 311,
   "id": "7de7d2d7",
   "metadata": {},
   "outputs": [
    {
     "name": "stdout",
     "output_type": "stream",
     "text": [
      "defaultdict(<class 'list'>, {})\n",
      "defaultdict(<class 'list'>, {'e': ['emu']})\n",
      "defaultdict(<class 'list'>, {'e': ['emu', 'elephant']})\n"
     ]
    }
   ],
   "source": [
    "# default dict\n",
    "from collections import defaultdict\n",
    "\n",
    "# param is the type of object u want to return\n",
    "animali = defaultdict(list)\n",
    "print(animali)\n",
    "\n",
    "animali['e'].append('emu')\n",
    "print(animali)\n",
    "animali['e'].append('elephant')\n",
    "print(animali)"
   ]
  },
  {
   "cell_type": "markdown",
   "id": "95fda42a",
   "metadata": {},
   "source": [
    "## List comprehension"
   ]
  },
  {
   "cell_type": "code",
   "execution_count": 318,
   "id": "45fff859",
   "metadata": {},
   "outputs": [
    {
     "name": "stdout",
     "output_type": "stream",
     "text": [
      "[0, 1, 2, 3, 4, 5, 6, 7, 8, 9, 10, 11, 12, 13, 14, 15, 16, 17, 18, 19, 20, 21, 22, 23, 24, 25, 26, 27, 28, 29, 30, 31, 32, 33, 34, 35, 36, 37, 38, 39, 40, 41, 42, 43, 44, 45, 46, 47, 48, 49, 50, 51, 52, 53, 54, 55, 56, 57, 58, 59, 60, 61, 62, 63, 64, 65, 66, 67, 68, 69, 70, 71, 72, 73, 74, 75, 76, 77, 78, 79, 80, 81, 82, 83, 84, 85, 86, 87, 88, 89, 90, 91, 92, 93, 94, 95, 96, 97, 98, 99]\n",
      "[0, 10, 20, 30, 40, 50, 60, 70, 80, 90]\n"
     ]
    }
   ],
   "source": [
    "mylist = [i for i in range(0,100)]\n",
    "print(mylist)\n",
    "\n",
    "filt_mylist = [i for i in mylist if i % 10 == 0]\n",
    "print(filt_mylist)"
   ]
  },
  {
   "cell_type": "code",
   "execution_count": 331,
   "id": "90fd533f",
   "metadata": {},
   "outputs": [
    {
     "name": "stdout",
     "output_type": "stream",
     "text": [
      "['Mein', 'Name', 'ist', 'Fed,', 'ich', 'bin', 'italienerin', 'aber', 'lebe', 'gerade', 'in', 'M.']\n",
      "['mein', 'name', 'ist', 'fed', 'ich', 'bin', 'italienerin', 'aber', 'lebe', 'gerade', 'in', 'm']\n"
     ]
    },
    {
     "data": {
      "text/plain": [
       "['ist', 'fed', 'ich', 'bin', 'in', 'm']"
      ]
     },
     "execution_count": 331,
     "metadata": {},
     "output_type": "execute_result"
    }
   ],
   "source": [
    "# with functions\n",
    "myString = 'Mein Name ist Fed, ich bin italienerin aber lebe gerade in M.'\n",
    "\n",
    "# obtain a list of elements with \" \" as default separator\n",
    "li = myString.split()\n",
    "print(li)\n",
    "\n",
    "# clean elements to remove punctuation\n",
    "def clean_word(word):\n",
    "    return word.replace('.', '').replace(',', '').lower() # function chaining\n",
    "li_clean = [clean_word(i) for i in li]\n",
    "print(li_clean)\n",
    "\n",
    "# take elements shorter than 4 letters\n",
    "li_small = [i for i in li_clean if len(i)<4]\n",
    "li_small"
   ]
  },
  {
   "cell_type": "markdown",
   "id": "d3810c42",
   "metadata": {},
   "source": [
    "### Nested list comprehension"
   ]
  },
  {
   "cell_type": "code",
   "execution_count": null,
   "id": "c96501e3",
   "metadata": {},
   "outputs": [
    {
     "data": {
      "text/plain": [
       "[['ich', 'bin', 'gerade', 'in', 'urlaub', 'in', 'italien'],\n",
       " ['ich', 'habe', '2', 'wochen', 'in', 'meinen', 'heimat', 'verbracht'],\n",
       " ['ich', 'bin', 'trauring', 'zurück', 'zu', 'kehren'],\n",
       " []]"
      ]
     },
     "execution_count": 333,
     "metadata": {},
     "output_type": "execute_result"
    }
   ],
   "source": [
    "mysent = 'ich bin gerade in urlaub in Italien. Ich habe 2 wochen in meinen Heimat verbracht. Ich bin trauring zurück zu kehren.'\n",
    "\n",
    "[ [clean_word(i) for i in sentence.split()] for sentence in mysent.split('.')]"
   ]
  },
  {
   "cell_type": "markdown",
   "id": "6078e0ad",
   "metadata": {},
   "source": [
    "## Dictionary comprehension\n",
    "to create dictionaries out of iterable structures"
   ]
  },
  {
   "cell_type": "code",
   "execution_count": 343,
   "id": "3d18bf45",
   "metadata": {},
   "outputs": [
    {
     "data": {
      "text/plain": [
       "{'a': 'aardvark', 'b': 'bear', 'c': 'cat', 'd': 'dog'}"
      ]
     },
     "execution_count": 343,
     "metadata": {},
     "output_type": "execute_result"
    }
   ],
   "source": [
    "# dict from list of tuples\n",
    "animalList = [('a', 'aardvark'), ('b', 'bear'), ('c', 'cat'), ('d', 'dog')]\n",
    "animals = {item[0]: item[1] for item in animalList}\n",
    "animals\n",
    "\n",
    "# or better\n",
    "animals1 = { key:value for key, value in animalList}\n",
    "animals1"
   ]
  },
  {
   "cell_type": "code",
   "execution_count": 352,
   "id": "e29de996",
   "metadata": {},
   "outputs": [
    {
     "name": "stdout",
     "output_type": "stream",
     "text": [
      "['a', 'b', 'c', 'd']\n",
      "['aardvark', 'bear', 'cat', 'dog']\n",
      "[('a', 'aardvark'), ('b', 'bear'), ('c', 'cat'), ('d', 'dog')]\n"
     ]
    }
   ],
   "source": [
    "keys_list = list(animals.keys())\n",
    "print(keys_list)\n",
    "values_list = list(animals.values())\n",
    "print(values_list)\n",
    "items_list_tuples = list(animals.items())\n",
    "print(items_list_tuples)\n"
   ]
  },
  {
   "cell_type": "code",
   "execution_count": 356,
   "id": "5a4db5b0",
   "metadata": {},
   "outputs": [
    {
     "data": {
      "text/plain": [
       "[{'letter': 'a', 'animal': 'aardvark'},\n",
       " {'letter': 'b', 'animal': 'bear'},\n",
       " {'letter': 'c', 'animal': 'cat'},\n",
       " {'letter': 'd', 'animal': 'dog'}]"
      ]
     },
     "execution_count": 356,
     "metadata": {},
     "output_type": "execute_result"
    }
   ],
   "source": [
    "# from dict to list of tuples refactored\n",
    "animals\n",
    "\n",
    "[{'letter':key, 'animal': value} for key, value in animals.items()]"
   ]
  },
  {
   "cell_type": "code",
   "execution_count": null,
   "id": "d1c400a7",
   "metadata": {},
   "outputs": [
    {
     "name": "stdout",
     "output_type": "stream",
     "text": [
      "AAAABBBCC\n"
     ]
    },
    {
     "data": {
      "text/plain": [
       "[('A', 4), ('B', 3), ('C', 2)]"
      ]
     },
     "execution_count": 366,
     "metadata": {},
     "output_type": "execute_result"
    }
   ],
   "source": [
    "# from 'AAAABBBCC' to [('A', 4), ('B', 3), ('C', 2)]\n",
    "def encodeString(stringVal):\n",
    "    li = list(stringVal)\n",
    "    unique = set(li) #dict_keys\n",
    "    counts = {element: li.count(element) for element in unique} #dict: key:count\n",
    "    # convert to list of tuples\n",
    "    result = list(counts.items())\n",
    "    return result\n",
    "\n",
    "\n",
    "string = 'A'*4 + 'B'*3 + 'C'*2\n",
    "print(string)\n",
    "\n",
    "encodeString(string)\n",
    "\n",
    "\n"
   ]
  },
  {
   "cell_type": "code",
   "execution_count": 382,
   "id": "8516e8e0",
   "metadata": {},
   "outputs": [
    {
     "data": {
      "text/plain": [
       "'AAAABBBCC'"
      ]
     },
     "execution_count": 382,
     "metadata": {},
     "output_type": "execute_result"
    }
   ],
   "source": [
    "# from [('A', 4), ('B', 3), ('C', 2)] to 'AAAABBBCC'\n",
    "\n",
    "# def decodeString(encodedList):\n",
    "#     dict = {i:rep for i, rep in encodedList}\n",
    "#     string = []\n",
    "#     for it in dict.items():\n",
    "#         st = it[0]*it[1]\n",
    "#         string.append(st)\n",
    "#     result = ''.join(string)\n",
    "#     return result\n",
    "\n",
    "# inp = [('A', 4), ('B', 3), ('C', 2)]\n",
    "# decodeString(inp)\n",
    "\n",
    "\n",
    "\n",
    "### solution\n",
    "def decodedStr(in_li_tuple):\n",
    "    decoded = ''\n",
    "    for i in in_li_tuple:\n",
    "        decoded += i[0]*i[1]\n",
    "    return decoded\n",
    "\n",
    "inp = [('A', 4), ('B', 3), ('C', 2)]\n",
    "decodedStr(inp)"
   ]
  },
  {
   "cell_type": "markdown",
   "id": "8737156e",
   "metadata": {},
   "source": [
    "## operators\n",
    "- ** exponential\n",
    "- % modulus, remainder of division as int\n",
    "- // , int "
   ]
  },
  {
   "cell_type": "code",
   "execution_count": 27,
   "id": "a3836041",
   "metadata": {},
   "outputs": [
    {
     "data": {
      "text/plain": [
       "6"
      ]
     },
     "execution_count": 27,
     "metadata": {},
     "output_type": "execute_result"
    }
   ],
   "source": [
    "20 // 3 #6\n",
    "# type(20//4) #int"
   ]
  },
  {
   "cell_type": "code",
   "execution_count": 30,
   "id": "3437272d",
   "metadata": {},
   "outputs": [
    {
     "data": {
      "text/plain": [
       "2"
      ]
     },
     "execution_count": 30,
     "metadata": {},
     "output_type": "execute_result"
    }
   ],
   "source": [
    "20 % 3 #2\n",
    "# type(20%4) #int"
   ]
  },
  {
   "cell_type": "code",
   "execution_count": 31,
   "id": "8ec11b7b",
   "metadata": {},
   "outputs": [
    {
     "data": {
      "text/plain": [
       "'yoyoyoyoyoyoyoyoyoyoyoyo'"
      ]
     },
     "execution_count": 31,
     "metadata": {},
     "output_type": "execute_result"
    }
   ],
   "source": [
    "'yoyo' * 6"
   ]
  },
  {
   "cell_type": "markdown",
   "id": "7c2e84ff",
   "metadata": {},
   "source": [
    "## logical operator\n",
    "- and\n",
    "- or\n",
    "- not"
   ]
  },
  {
   "cell_type": "markdown",
   "id": "b861ffb7",
   "metadata": {},
   "source": [
    "## membership operators\n",
    "- in\n",
    "- not in\n"
   ]
  },
  {
   "cell_type": "code",
   "execution_count": 34,
   "id": "f3fad2b8",
   "metadata": {},
   "outputs": [
    {
     "data": {
      "text/plain": [
       "True"
      ]
     },
     "execution_count": 34,
     "metadata": {},
     "output_type": "execute_result"
    }
   ],
   "source": [
    "'cat' in 'my pet cattatonic'"
   ]
  },
  {
   "cell_type": "markdown",
   "id": "3afd47f1",
   "metadata": {},
   "source": [
    "## Control flow\n",
    "- if / else\n",
    "- for \n",
    "- while\n",
    "- case"
   ]
  },
  {
   "cell_type": "code",
   "execution_count": 54,
   "id": "e2fcdc95",
   "metadata": {},
   "outputs": [
    {
     "name": "stdout",
     "output_type": "stream",
     "text": [
      "0\n",
      "1\n",
      "2\n",
      "3\n"
     ]
    }
   ],
   "source": [
    "a = 0\n",
    "while a <= 3 :\n",
    "    print(a)\n",
    "    a += 1\n"
   ]
  },
  {
   "cell_type": "markdown",
   "id": "fd6f75df",
   "metadata": {},
   "source": [
    "## Functions\n",
    "- returns smt\n",
    "- update smt"
   ]
  },
  {
   "cell_type": "code",
   "execution_count": 40,
   "id": "ac88cab3",
   "metadata": {},
   "outputs": [
    {
     "data": {
      "text/plain": [
       "[1, 2, 3, 4]"
      ]
     },
     "execution_count": 40,
     "metadata": {},
     "output_type": "execute_result"
    }
   ],
   "source": [
    "def append4 (li):\n",
    "    li.append(4)\n",
    "\n",
    "lii = [1,2,3]\n",
    "append4(lii)\n",
    "lii\n"
   ]
  },
  {
   "cell_type": "markdown",
   "id": "07052983",
   "metadata": {},
   "source": [
    "## Classes (OOP)\n",
    "- Class or Object\n",
    "- variables -> attributes\n",
    "- functions -> methods\n"
   ]
  },
  {
   "cell_type": "code",
   "execution_count": 24,
   "id": "1c5aab94",
   "metadata": {},
   "outputs": [
    {
     "name": "stdout",
     "output_type": "stream",
     "text": [
      "Fluffy says: Bark\n"
     ]
    },
    {
     "data": {
      "text/plain": [
       "__main__.Dog"
      ]
     },
     "execution_count": 24,
     "metadata": {},
     "output_type": "execute_result"
    }
   ],
   "source": [
    "class Dog:\n",
    "    def __init__(self, name):\n",
    "        self.name = name\n",
    "        self.legs = 4\n",
    "\n",
    "    def speak(self):\n",
    "        print(self.name + ' says: Bark')\n",
    "\n",
    "\n",
    "dog = Dog('Rover')\n",
    "dog1 = Dog('Fluffy')\n",
    "dog1.speak()\n",
    "\n",
    "type(Dog('Rover'))\n",
    "\n"
   ]
  },
  {
   "cell_type": "code",
   "execution_count": null,
   "id": "2b3760ed",
   "metadata": {},
   "outputs": [
    {
     "name": "stdout",
     "output_type": "stream",
     "text": [
      "<class 'NoneType'>\n"
     ]
    }
   ],
   "source": [
    "#fx factorial of number, only 0 or positive integer, else the fx returns None\n",
    "def fact(num):\n",
    "    if isinstance(num, int) and num>0 or num==0:\n",
    "        res =  1\n",
    "        for i in range (1, num+1):\n",
    "            res = res*i # res *= i\n",
    "        return res\n",
    "    else:\n",
    "        res = None\n",
    "        print(type(res))\n",
    "\n",
    "fact(3.2)"
   ]
  },
  {
   "cell_type": "code",
   "execution_count": null,
   "id": "5ac243b5",
   "metadata": {},
   "outputs": [
    {
     "data": {
      "text/plain": [
       "41531"
      ]
     },
     "execution_count": 66,
     "metadata": {},
     "output_type": "execute_result"
    }
   ],
   "source": [
    "#fx to convert hexnumbers to decimal numbers\n",
    "hexNumbers = {\n",
    "    '0': 0, '1': 1, '2': 2, '3': 3, '4': 4, '5': 5, '6': 6, '7': 7, '8': 8, '9': 9,\n",
    "    'A': 10, 'B': 11, 'C': 12, 'D': 13, 'E': 14, 'F': 15\n",
    "}\n",
    "\n",
    "def conv_dec(num):\n",
    "    for char in num:\n",
    "        if char not in hexNumbers:\n",
    "            print(\"error\")\n",
    "            return(None)\n",
    "    conv = 0\n",
    "    exp = len(num)-1\n",
    "    for char in num:\n",
    "        conv = conv + (hexNumbers[char] * (16**exp))\n",
    "        exp = exp - 1\n",
    "    return conv\n",
    "\n",
    "conv_dec('A23B') #11+(3*16)+(2*16**2)+(10*16**3)"
   ]
  },
  {
   "cell_type": "markdown",
   "id": "7998eccc",
   "metadata": {},
   "source": [
    "## Control Flow\n",
    "used in loops for / while:\n",
    "- pass : as placeholder and to preserve indentation in while loops...\n",
    "- break : it breaks out of the first loop it is in\n",
    "- continue : skips everything else that follows inside the while loop <br><br>\n",
    "\n",
    "used in functions:\n",
    "- return : exit the method, eventually printing smt\n"
   ]
  },
  {
   "cell_type": "code",
   "execution_count": null,
   "id": "09d257ba",
   "metadata": {},
   "outputs": [
    {
     "data": {
      "text/plain": [
       "7"
      ]
     },
     "execution_count": 73,
     "metadata": {},
     "output_type": "execute_result"
    }
   ],
   "source": [
    "#single line if statement\n",
    "n = 7\n",
    "'fizz' if n % 3 == 0 else 'buzz' if n % 5 == 0 else n"
   ]
  },
  {
   "cell_type": "code",
   "execution_count": 74,
   "id": "e432cab7",
   "metadata": {},
   "outputs": [
    {
     "data": {
      "text/plain": [
       "[1, 2, 'fizz', 4, 'buzz', 'fizz', 7, 8, 'fizz', 'buzz']"
      ]
     },
     "execution_count": 74,
     "metadata": {},
     "output_type": "execute_result"
    }
   ],
   "source": [
    "['fizz' if n%3==0 else 'buzz' if n%5==0 else n for n in range(1, 11)]"
   ]
  },
  {
   "cell_type": "code",
   "execution_count": null,
   "id": "a8d41ef7",
   "metadata": {},
   "outputs": [
    {
     "data": {
      "text/plain": [
       "datetime.datetime(2025, 8, 13, 6, 55, 27, 413464)"
      ]
     },
     "execution_count": 75,
     "metadata": {},
     "output_type": "execute_result"
    }
   ],
   "source": [
    "from datetime import datetime\n",
    "datetime.now()"
   ]
  },
  {
   "cell_type": "markdown",
   "id": "d5b658d8",
   "metadata": {},
   "source": [
    "### Pass"
   ]
  },
  {
   "cell_type": "code",
   "execution_count": null,
   "id": "a5cf688f",
   "metadata": {},
   "outputs": [
    {
     "name": "stdout",
     "output_type": "stream",
     "text": [
      "we are at 34 seconds\n"
     ]
    }
   ],
   "source": [
    "#2 sec in the future\n",
    "wait_until = (datetime.now().second +2) %60\n",
    "\n",
    "# pass\n",
    "while datetime.now().second != wait_until:\n",
    "    pass\n",
    "print(f'we are at {wait_until} seconds')"
   ]
  },
  {
   "cell_type": "markdown",
   "id": "161a959b",
   "metadata": {},
   "source": [
    "### Break"
   ]
  },
  {
   "cell_type": "code",
   "execution_count": null,
   "id": "14f198dd",
   "metadata": {},
   "outputs": [
    {
     "name": "stdout",
     "output_type": "stream",
     "text": [
      "we are at 14 seconds\n"
     ]
    }
   ],
   "source": [
    "#2 sec in the future\n",
    "wait_until = (datetime.now().second +2) %60\n",
    "\n",
    "while True:\n",
    "    if datetime.now().second == wait_until:\n",
    "        print(f'we are at {wait_until} seconds')\n",
    "        break"
   ]
  },
  {
   "cell_type": "markdown",
   "id": "3638356d",
   "metadata": {},
   "source": [
    "### Continue"
   ]
  },
  {
   "cell_type": "code",
   "execution_count": 90,
   "id": "2b3c5aae",
   "metadata": {},
   "outputs": [
    {
     "name": "stdout",
     "output_type": "stream",
     "text": [
      "we are at 53 seconds\n"
     ]
    }
   ],
   "source": [
    "#2 sec in the future\n",
    "wait_until = (datetime.now().second +2) %60\n",
    "\n",
    "while True:\n",
    "    if datetime.now().second < wait_until:\n",
    "        continue\n",
    "    break\n",
    "print(f'we are at {wait_until} seconds')"
   ]
  },
  {
   "cell_type": "markdown",
   "id": "911c35c3",
   "metadata": {},
   "source": [
    "### time.sleep\n",
    "it pauses the program for exaclty n seconds"
   ]
  },
  {
   "cell_type": "code",
   "execution_count": 87,
   "id": "9043e5d2",
   "metadata": {},
   "outputs": [
    {
     "name": "stdout",
     "output_type": "stream",
     "text": [
      "Current time: 07:17:45.826931\n",
      "Now it's: 07:17:50.827321\n"
     ]
    }
   ],
   "source": [
    "from datetime import datetime\n",
    "import time\n",
    "\n",
    "print(f\"Current time: {datetime.now().time()}\")\n",
    "\n",
    "# Wait for 5 seconds\n",
    "time.sleep(5)\n",
    "\n",
    "print(f\"Now it's: {datetime.now().time()}\")\n"
   ]
  },
  {
   "cell_type": "markdown",
   "id": "c0192422",
   "metadata": {},
   "source": [
    "### ex with For loop"
   ]
  },
  {
   "cell_type": "code",
   "execution_count": 92,
   "id": "48b08812",
   "metadata": {},
   "outputs": [],
   "source": [
    "lkpAnimal = {\n",
    "    'a' : ['aardwark', 'antelope'],\n",
    "    'b' : ['bear'],\n",
    "    'c' : ['cat'],\n",
    "    'd' : ['dog']\n",
    "}\n",
    "\n",
    "for letter, animals in lkpAnimal.items():\n",
    "    pass"
   ]
  },
  {
   "cell_type": "code",
   "execution_count": 94,
   "id": "444968ff",
   "metadata": {},
   "outputs": [
    {
     "name": "stdout",
     "output_type": "stream",
     "text": [
      "only one animal with letter b: ['bear']\n",
      "only one animal with letter c: ['cat']\n",
      "only one animal with letter d: ['dog']\n"
     ]
    }
   ],
   "source": [
    "for letter, animals in lkpAnimal.items():\n",
    "    if len(animals)>1:\n",
    "        continue\n",
    "    print(f'only one animal with letter {letter}: {animals}')"
   ]
  },
  {
   "cell_type": "code",
   "execution_count": 95,
   "id": "ec735e8d",
   "metadata": {},
   "outputs": [
    {
     "name": "stdout",
     "output_type": "stream",
     "text": [
      "found 2: ['aardwark', 'antelope']\n"
     ]
    }
   ],
   "source": [
    "for letter, animals in lkpAnimal.items():\n",
    "    if len(animals)>1:\n",
    "        print(f'found {len(animals)}: {animals}')\n",
    "        break\n",
    "    print(f'only one animal with letter {letter}: {animals}')"
   ]
  },
  {
   "cell_type": "code",
   "execution_count": null,
   "id": "4fd25bad",
   "metadata": {},
   "outputs": [
    {
     "name": "stdout",
     "output_type": "stream",
     "text": [
      "2 is prime!\n",
      "3 is prime!\n",
      "5 is prime!\n",
      "7 is prime!\n",
      "11 is prime!\n",
      "13 is prime!\n",
      "17 is prime!\n",
      "19 is prime!\n",
      "23 is prime!\n",
      "29 is prime!\n",
      "31 is prime!\n",
      "37 is prime!\n",
      "41 is prime!\n",
      "43 is prime!\n",
      "47 is prime!\n",
      "53 is prime!\n",
      "59 is prime!\n",
      "61 is prime!\n",
      "67 is prime!\n",
      "71 is prime!\n",
      "73 is prime!\n",
      "79 is prime!\n",
      "83 is prime!\n",
      "89 is prime!\n",
      "97 is prime!\n"
     ]
    }
   ],
   "source": [
    "# all primes between 2 and 100\n",
    "'''\n",
    "->N IS PRIME IF it is not divisible by any number <= √N bcs\n",
    "Every factor pair has one number ≤ √n\n",
    "So if no number ≤ √n divides n, then n is prime\n",
    "This saves time and makes your code efficient\n",
    "'''\n",
    "for num in range (2, 100):\n",
    "    for factor in range (2, int(num**0.5) +1):\n",
    "        if num % factor == 0:\n",
    "            break #not prime\n",
    "    else:\n",
    "        print(f'{num} is prime!')"
   ]
  },
  {
   "cell_type": "code",
   "execution_count": 112,
   "id": "87eac97b",
   "metadata": {},
   "outputs": [
    {
     "data": {
      "text/plain": [
       "[2,\n",
       " 3,\n",
       " 5,\n",
       " 7,\n",
       " 11,\n",
       " 13,\n",
       " 17,\n",
       " 19,\n",
       " 23,\n",
       " 29,\n",
       " 31,\n",
       " 37,\n",
       " 41,\n",
       " 43,\n",
       " 47,\n",
       " 53,\n",
       " 59,\n",
       " 61,\n",
       " 67,\n",
       " 71,\n",
       " 73,\n",
       " 79,\n",
       " 83,\n",
       " 89,\n",
       " 97]"
      ]
     },
     "execution_count": 112,
     "metadata": {},
     "output_type": "execute_result"
    }
   ],
   "source": [
    "# all primes between 2 and 100 optimized\n",
    "'''\n",
    "->N IS PRIME IF it is not divisible by any number <= √N bcs\n",
    "and knowing the prime numbers <= √N, we can only check those as factors, not all the numbers <= √N\n",
    "'''\n",
    "def allPrimesUpTo(num):\n",
    "    primes = [2]\n",
    "    for number in range(3, num):\n",
    "        sqrtNum = number**0.5\n",
    "        for factor in primes:\n",
    "            if number % factor == 0:\n",
    "                # Not prime\n",
    "                break\n",
    "            if factor > sqrtNum:\n",
    "                # Prime!\n",
    "                primes.append(number)\n",
    "                break\n",
    "    return(primes)\n",
    "\n",
    "allPrimesUpTo(100)\n",
    "\n",
    "        "
   ]
  },
  {
   "cell_type": "markdown",
   "id": "b24ecbb0",
   "metadata": {},
   "source": [
    "## Functions\n",
    "- *args is placeholder for arguments, any argument can be provided when calling the function\n",
    "- **kwargs is placeholder for key-ward-arguments <br><br>\n",
    "-- kwargs - not ordered, must come after args <br>\n",
    "-- args - ordered"
   ]
  },
  {
   "cell_type": "code",
   "execution_count": null,
   "id": "f57ebc7f",
   "metadata": {},
   "outputs": [
    {
     "name": "stdout",
     "output_type": "stream",
     "text": [
      "(1, 2, 3, 4, 5)\n",
      "{'op': 'sum', 'mex': 'default mex'}\n"
     ]
    }
   ],
   "source": [
    "def PerformOp (*args, **kwargs):\n",
    "    print(args)\n",
    "    print(kwargs)\n",
    "\n",
    "\n",
    "PerformOp(1,2,3,4,5, op = 'sum', mex = 'default mex')"
   ]
  },
  {
   "cell_type": "code",
   "execution_count": 117,
   "id": "268e83ec",
   "metadata": {},
   "outputs": [
    {
     "data": {
      "text/plain": [
       "15"
      ]
     },
     "execution_count": 117,
     "metadata": {},
     "output_type": "execute_result"
    }
   ],
   "source": [
    "import math \n",
    "\n",
    "def PerformOp (*args, operation='sum'):\n",
    "    if operation == 'sum':\n",
    "        return sum(args)\n",
    "    if operation == 'product':\n",
    "        return math.prod(args)\n",
    "\n",
    "PerformOp(1,2,3,4,5)"
   ]
  },
  {
   "cell_type": "markdown",
   "id": "8bc0ac0f",
   "metadata": {},
   "source": [
    "### Variables scope\n",
    "- local - defined inside the function - overwrites Global if same var-name <br>\n",
    "    locals()\n",
    "- Global - defined in the main code-body <br>\n",
    "    globals()"
   ]
  },
  {
   "cell_type": "code",
   "execution_count": 121,
   "id": "b61fadf2",
   "metadata": {},
   "outputs": [
    {
     "data": {
      "text/plain": [
       "{'__name__': '__main__',\n",
       " '__doc__': '\\n->N IS PRIME IF it is not divisible by any number <= √N bcs\\nand knowing the prime numbers <= √N, we can only check those as factors, not all the numbers <= √N\\n',\n",
       " '__package__': None,\n",
       " '__loader__': None,\n",
       " '__spec__': None,\n",
       " '__builtin__': <module 'builtins' (built-in)>,\n",
       " '__builtins__': <module 'builtins' (built-in)>,\n",
       " '_ih': ['',\n",
       "  'def fact (num):\\n    res =  1\\n    for i in range (1, i+1):\\n        print(i)\\n\\n\\ndef(5)',\n",
       "  'def fact (num):\\n    res =  1\\n    for i in range (1, i+1):\\n        print(i)\\n\\n\\nfact(5)',\n",
       "  'def fact(num):\\n    res =  1\\n    for i in range (1, i+1):\\n        print(i)\\n\\n\\nfact(5)',\n",
       "  'def fact(num):\\n    res =  1\\n    for i in range (1, num+1):\\n        print(i)\\n\\n\\nfact(5)',\n",
       "  'def fact(num):\\n    res =  1\\n    for i in range (1, num+1):\\n        print(i)\\n        res = res*i\\n        # res *= i\\n\\n\\nfact(5)',\n",
       "  'def fact(num):\\n    res =  1\\n    for i in range (1, num+1):\\n        print(i)\\n        res = res*i\\n        # res *= i\\n\\n\\nfact(5)',\n",
       "  'def fact(num):\\n    res =  1\\n    for i in range (1, num+1):\\n        # print(i)\\n        res = res*i\\n        # res *= i\\n    return res\\n\\n\\n\\nfact(5)',\n",
       "  'def fact(num):\\n    if isinstance(num, int) and num>0 or num==0:\\n        res =  1\\n        for i in range (1, num+1):\\n            # print(i)\\n            res = res*i\\n            # res *= i\\n        return res\\n    else:\\n        res = None\\n\\n\\n\\nfact(5)',\n",
       "  'def fact(num):\\n    if isinstance(num, int) and num>0 or num==0:\\n        res =  1\\n        for i in range (1, num+1):\\n            # print(i)\\n            res = res*i\\n            # res *= i\\n        return res\\n    else:\\n        res = None\\n\\n\\n\\nfact(-5)',\n",
       "  'def fact(num):\\n    if isinstance(num, int) and num>0 or num==0:\\n        res =  1\\n        for i in range (1, num+1):\\n            # print(i)\\n            res = res*i\\n            # res *= i\\n        return res\\n    else:\\n        res = None\\n\\n\\n\\nfact(-5)',\n",
       "  'def fact(num):\\n    if isinstance(num, int) and num>0 or num==0:\\n        res =  1\\n        for i in range (1, num+1):\\n            # print(i)\\n            res = res*i\\n            # res *= i\\n        return res\\n    else:\\n        res = None\\n\\n\\n\\nfact(3.2))',\n",
       "  'def fact(num):\\n    if isinstance(num, int) and num>0 or num==0:\\n        res =  1\\n        for i in range (1, num+1):\\n            # print(i)\\n            res = res*i\\n            # res *= i\\n        return res\\n    else:\\n        res = None\\n\\n\\n\\nfact(3.2)',\n",
       "  'def fact(num):\\n    if isinstance(num, int) and num>0 or num==0:\\n        res =  1\\n        for i in range (1, num+1):\\n            # print(i)\\n            res = res*i\\n            # res *= i\\n        return res\\n    else:\\n        res = None\\n        print(type(res))\\n\\n\\n\\nfact(3.2)',\n",
       "  '#fx factorial of number, only 0 or positive integer, else the fx returns None\\ndef fact(num):\\n    if isinstance(num, int) and num>0 or num==0:\\n        res =  1\\n        for i in range (1, num+1):\\n            res = res*i # res *= i\\n        return res\\n    else:\\n        res = None\\n        print(type(res))\\n\\n\\n\\nfact(3.2)',\n",
       "  '#fx factorial of number, only 0 or positive integer, else the fx returns None\\ndef fact(num):\\n    if isinstance(num, int) and num>0 or num==0:\\n        res =  1\\n        for i in range (1, num+1):\\n            res = res*i # res *= i\\n        return res\\n    else:\\n        res = None\\n        print(type(res))\\n\\n\\n\\nfact(3.2)\\nnumber = 5\\nresult = Answer.factorial(number)',\n",
       "  '#fx factorial of number, only 0 or positive integer, else the fx returns None\\ndef fact(num):\\n    if isinstance(num, int) and num>0 or num==0:\\n        res =  1\\n        for i in range (1, num+1):\\n            res = res*i # res *= i\\n        return res\\n    else:\\n        res = None\\n        print(type(res))\\n\\n\\n\\nfact(3.2)',\n",
       "  'def fact1(num):\\n    if num < 0 or isinstance(num, int)==False:\\n        return None\\n    else:\\n        i = 1\\n        res = 0\\n        while i <= num:\\n            print(i)\\n            res = num * i\\n            print(res)\\n\\nfact1(3.5)',\n",
       "  'def fact1(num):\\n    if num < 0 or isinstance(num, int)==False:\\n        return None\\n    else:\\n        i = 1\\n        res = 0\\n        while i <= num:\\n            print(i)\\n            res = num * i\\n            print(res)\\n\\nfact1(3)',\n",
       "  'def fact1(num):\\n    if num < 0 or isinstance(num, int)==False:\\n        return None\\n    else:\\n        i = 1\\n        res = 1\\n        while i <= num:\\n            print(i)\\n            res = res * i\\n            print(res)\\n\\nfact1(3)',\n",
       "  'def fact1(num):\\n    if num < 0 or isinstance(num, int)==False:\\n        return None\\n    else:\\n        i = 1\\n        res = 1\\n        while i <= num:\\n            print(i)\\n            res = res * i\\n            print(res)\\n            i += 1\\n\\nfact1(3)',\n",
       "  'def fact1(num):\\n    if num < 0 or isinstance(num, int)==False:\\n        return None\\n    else:\\n        i = 1\\n        res = 1\\n        while i <= num:\\n            res = res * i\\n            print(res)\\n            i += 1\\n\\nfact1(3)',\n",
       "  'def fact1(num):\\n    if num < 0 or isinstance(num, int)==False:\\n        return None\\n    else:\\n        i = 1\\n        res = 1\\n        while i <= num:\\n            res = res * i\\n            i += 1\\n\\nfact1(5)',\n",
       "  \"class Dog:\\n    def __init__(self, name):\\n        self.name = name\\n        self.legs = 4\\n\\n    def speak(self):\\n        print(self.name + ' says: Bark')\\n\\n\\ndog = Dog('Rover')\\ndog1 = Dog('Fluffy')\\ndog1.speak()\\n\\ntype(dog)\",\n",
       "  \"class Dog:\\n    def __init__(self, name):\\n        self.name = name\\n        self.legs = 4\\n\\n    def speak(self):\\n        print(self.name + ' says: Bark')\\n\\n\\ndog = Dog('Rover')\\ndog1 = Dog('Fluffy')\\ndog1.speak()\\n\\ntype(Dog('Rover'))\",\n",
       "  '456 % 10',\n",
       "  '456 % 10\\n456//10',\n",
       "  'a = [1,2,3,4]\\nwhile True:\\n    print(a[0])',\n",
       "  'from decimal import Decimal, getcontext\\n\\ngetcontext()',\n",
       "  'from decimal import Decimal, getcontext\\n\\ngetcontext()',\n",
       "  '3.12 - 2.11',\n",
       "  'float_imprec = 3.12 - 2.11\\n\\ndecim_prec = Decimal(3.12) - Decimal(2.11)\\n\\ndecim_prec',\n",
       "  'float_imprec = 3.12 - 2.11\\n\\ndecim_prec = Decimal(3.12) - Decimal(2.11)\\n\\nfloat_imprec\\n# decim_prec',\n",
       "  'float_imprec = 3.12 - 2.11\\n\\ndecim_prec = Decimal(3.12) - Decimal(2.11)\\n\\nfloat_imprec\\ndecim_prec',\n",
       "  'float_imprec = 3.12 - 2.11\\n\\ndecim_prec = Decimal(3.12) - Decimal(2.11)\\n\\nfloat_imprec\\n# decim_prec',\n",
       "  '1.5-1.4',\n",
       "  'Decimal(1.5)-Decimal(1.4)',\n",
       "  'Decimal(1.5 - 1.4)',\n",
       "  '1.5-1.4',\n",
       "  'print(f\"float ouput 1.5-1.4 is: {1.5-1.4}\")',\n",
       "  'print(f\"float ouput 1.5-1.4 seems not correct: {1.5-1.4}\")\\nprint(f\"correct rounded ouput round(1.5-1.4, 3) is: {round(1.5-1.4, 3)}\")',\n",
       "  \"bool('')\\nbool(0)\\nbool(None)\",\n",
       "  \"# output 'False'\\nbool('')\\nbool(0)\\nbool(None)\\nbool([])\\nbool[{}]\",\n",
       "  \"# output 'False'\\nbool('')\\nbool(0)\\nbool('None')\\nbool([])\\nbool[{}]\",\n",
       "  \"# output 'False'\\nbool('')\\nbool(0)\\nbool('None')\\nbool([])\\nbool({})\",\n",
       "  \"# output 'False'\\nbool('')\\nbool(0)\\nbool('None')\\n# bool([])\\n# bool({})\",\n",
       "  \"# output 'False'\\nbool('')\\nbool(0)\\nbool()\\n# bool([])\\n# bool({})\",\n",
       "  \"ombr = True\\nschWet = False\\n\\nif ombr or schWet:\\n    print('go!')\\nelse:\\n    print('stay')\",\n",
       "  \"ombr = False\\nschWet = False\\n\\nif ombr or schWet:\\n    print('go!')\\nelse:\\n    print('stay')\",\n",
       "  \"ombr = False\\nschWet = True\\n\\nif ombr or schWet:\\n    print('go!')\\nelse:\\n    print('stay')\",\n",
       "  \"'my number is'+str(55)\",\n",
       "  \"'my age is '+str(55)\",\n",
       "  \"'my age is '+str(55)\\nf'my age is {50+5}'\",\n",
       "  \"'my age is '+str(55)\\nf'my age is {50+5}'\\n\\nmanyLine = ''' MULTI LINE STRING untils \\\\'\\\\'\\\\'\\nI am still in the string\\nstill in the string \\n'''\",\n",
       "  \"'my age is '+str(55)\\nf'my age is {50+5}'\\n\\nmanyLine = ''' MULTI LINE STRING untils \\\\'\\\\'\\\\'\\nI am still in the string\\nstill in the string \\n'''\\nmanyLine\",\n",
       "  \"'my age is '+str(55)\\nf'my age is {50+5}'\\n\\nmanyLine = ''' MULTI LINE STRING untils \\\\'\\\\'\\\\'\\nI am still in the string\\nstill in the string \\n'''\\nprint(manyLine)\",\n",
       "  \"'my age is '+str(55)\\nf'my age is {50+5}'\\n\\nmanyLine = '''\\nMULTI LINE STRING untils \\\\'\\\\'\\\\'\\nI am still in the string\\nstill in the string \\n'''\\nprint(manyLine)\",\n",
       "  'byte(4)',\n",
       "  'bytes(4)',\n",
       "  \"int('101',2)\",\n",
       "  \"int('101',2)\\nbool(-1) == 1\",\n",
       "  \"int('101',2)\\nbool(-1) == 1\\ntrue == 1\",\n",
       "  \"int('101',2)\\nbool(-1) == 1\\nTrue == 1\",\n",
       "  \"int('101',2)\\nbool(-1) == 1\\nbool(-1)\",\n",
       "  '#fx to convert hexnumbers to decimal numbers\\nhexNumbers = {\\n    \\'0\\': 0, \\'1\\': 1, \\'2\\': 2, \\'3\\': 3, \\'4\\': 4, \\'5\\': 5, \\'6\\': 6, \\'7\\': 7, \\'8\\': 8, \\'9\\': 9,\\n    \\'A\\': 10, \\'B\\': 11, \\'C\\': 12, \\'D\\': 13, \\'E\\': 14, \\'F\\': 15\\n}\\n\\ndef conv_dec(num):\\n    for char in num:\\n        if char not in hexNumbers:\\n            print(\"error\")\\n            return(None)\\n    conv = 0\\n    exp = len(num)-1\\n    for char in num:\\n        conv = conv + (num[char] * (16**exp))\\n        exp = exp - 1\\n    return conv\\n\\nconv_dec(4)',\n",
       "  '#fx to convert hexnumbers to decimal numbers\\nhexNumbers = {\\n    \\'0\\': 0, \\'1\\': 1, \\'2\\': 2, \\'3\\': 3, \\'4\\': 4, \\'5\\': 5, \\'6\\': 6, \\'7\\': 7, \\'8\\': 8, \\'9\\': 9,\\n    \\'A\\': 10, \\'B\\': 11, \\'C\\': 12, \\'D\\': 13, \\'E\\': 14, \\'F\\': 15\\n}\\n\\ndef conv_dec(num):\\n    for char in num:\\n        if char not in hexNumbers:\\n            print(\"error\")\\n            return(None)\\n    conv = 0\\n    exp = len(num)-1\\n    for char in num:\\n        conv = conv + (num[char] * (16**exp))\\n        exp = exp - 1\\n    return conv\\n\\nconv_dec(\\'A23B\\')',\n",
       "  '#fx to convert hexnumbers to decimal numbers\\nhexNumbers = {\\n    \\'0\\': 0, \\'1\\': 1, \\'2\\': 2, \\'3\\': 3, \\'4\\': 4, \\'5\\': 5, \\'6\\': 6, \\'7\\': 7, \\'8\\': 8, \\'9\\': 9,\\n    \\'A\\': 10, \\'B\\': 11, \\'C\\': 12, \\'D\\': 13, \\'E\\': 14, \\'F\\': 15\\n}\\n\\ndef conv_dec(num):\\n    for char in num:\\n        if char not in hexNumbers:\\n            print(\"error\")\\n            return(None)\\n    conv = 0\\n    exp = len(num)-1\\n    for char in num:\\n        conv = conv + (hexNumbers[char] * (16**exp))\\n        exp = exp - 1\\n    return conv\\n\\nconv_dec(\\'A23B\\')',\n",
       "  '11+(3*16)+(2*16**2)+(10*16**3)',\n",
       "  'n= 5\\nn % 3',\n",
       "  'n = 5\\nn % 3',\n",
       "  'n // 3',\n",
       "  \"n = 5\\n'fizz' if n % 3 == 0 else 'buzz' if n % 5 == 0 else 'n'\",\n",
       "  \"n = 7\\n'fizz' if n % 3 == 0 else 'buzz' if n % 5 == 0 else 'n'\",\n",
       "  \"n = 7\\n'fizz' if n % 3 == 0 else 'buzz' if n % 5 == 0 else n\",\n",
       "  \"['fizz' if n%3==0 else 'buzz' if n%5==0 else n for n in range(1, 11)]\",\n",
       "  'from datetime import datetime\\ndatetime.now()',\n",
       "  'datetime.now().second +2',\n",
       "  '#2 sec in the future\\n(datetime.now().second +2) %60',\n",
       "  '#2 sec in the future\\n(datetime.now().second +2) %60',\n",
       "  \"#2 sec in the future\\nwait_until = (datetime.now().second +2) %60\\n\\nwhile datetime.now().second != wait_until:\\n    pass\\nprint(f'we are at {wait_until} seconds')\",\n",
       "  \"#2 sec in the future\\nwait_until = (datetime.now().second +2) %60\\n\\nwhile datetime.now().second != wait_until:\\n    pass\\nprint(f'we are at {wait_until} seconds')\",\n",
       "  \"while True:\\n    if datetime.now() == wait_until:\\n        print(f'we are at {wait_until} seconds')\\n        break\",\n",
       "  \"#2 sec in the future\\nwait_until = (datetime.now().second +2) %60\\n\\nwhile True:\\n    if datetime.now() == wait_until:\\n        print(f'we are at {wait_until} seconds')\\n        break\",\n",
       "  \"#2 sec in the future\\nwait_until = (datetime.now().second +2) %60\\n\\nwhile True:\\n    if datetime.now().seconds == wait_until:\\n        print(f'we are at {wait_until} seconds')\\n        break\",\n",
       "  \"#2 sec in the future\\nwait_until = (datetime.now().second +2) %60\\n\\nwhile True:\\n    if datetime.now().seconds == wait_until:\\n        print(f'we are at {wait_until} seconds')\\n        break\",\n",
       "  \"#2 sec in the future\\nwait_until = (datetime.now().second +2) %60\\n\\nwhile True:\\n    if datetime.now().second == wait_until:\\n        print(f'we are at {wait_until} seconds')\\n        break\",\n",
       "  'from datetime import datetime\\nimport time\\n\\nprint(f\"Current time: {datetime.now().time()}\")\\n\\n# Wait for 2 seconds\\ntime.sleep(2)\\n\\nprint(f\"Now it\\'s: {datetime.now().time()}\")',\n",
       "  'from datetime import datetime\\nimport time\\n\\nprint(f\"Current time: {datetime.now().time()}\")\\n\\n# Wait for 5 seconds\\ntime.sleep(5)\\n\\nprint(f\"Now it\\'s: {datetime.now().time()}\")',\n",
       "  \"#2 sec in the future\\nwait_until = (datetime.now().second +2) %60\\n\\nwhile True:\\n    if datetime.now().second < wait_until:\\n        continue\\n    break\\nprint(f'we are at {wait_until} seconds')\",\n",
       "  \"#2 sec in the future\\nwait_until = (datetime.now().second +2) %60\\n\\nwhile True:\\n    if datetime.now().second < wait_until:\\n        continue\\n    break\\nprint(f'we are at {wait_until} seconds')\",\n",
       "  \"#2 sec in the future\\nwait_until = (datetime.now().second +2) %60\\n\\nwhile True:\\n    if datetime.now().second < wait_until:\\n        continue\\n    break\\nprint(f'we are at {wait_until} seconds')\",\n",
       "  \"lkpAnimal = {\\n    'a' : ['aardwark', 'antelope'],\\n    'b' : ['bear'],\\n    'c' : ['cat'],\\n    'd' : ['dog']\\n}\",\n",
       "  \"lkpAnimal = {\\n    'a' : ['aardwark', 'antelope'],\\n    'b' : ['bear'],\\n    'c' : ['cat'],\\n    'd' : ['dog']\\n}\\n\\nfor letter, animals in lkpAnimal.items():\\n    pass\",\n",
       "  \"for letter, animals in lkpAnimal.items():\\n    if len(animals)>1:\\n        continue\\n    print(f'only one animal with letter {letter}: {animails}')\",\n",
       "  \"for letter, animals in lkpAnimal.items():\\n    if len(animals)>1:\\n        continue\\n    print(f'only one animal with letter {letter}: {animals}')\",\n",
       "  \"for letter, animals in lkpAnimal.items():\\n    if len(animals)>1:\\n        print(f'found {len(animals)}: {animals}')\\n        break\\n    print(f'only one animal with letter {letter}: {animals}')\",\n",
       "  \"# all primes between 2 and 100\\nfor num in range (2, 100):\\n    for factor in range (2, num**0.5) +1):\\n        if num % factor == 0:\\n            break #not prime\\n    else:\\n        print(f'{num} is prime!')\",\n",
       "  \"# all primes between 2 and 100\\nfor num in range (2, 100):\\n    for factor in range (2, int(num**0.5) +1):\\n        if num % factor == 0:\\n            break #not prime\\n    else:\\n        print(f'{num} is prime!')\",\n",
       "  \"# all primes between 2 and 100 optimized\\n'''\\n->N IS PRIME IF it is not divisible by any number <= √N bcs\\nand knowing the prime numbers <= √N, we can only check those as factors, not all the numbers <= √N\\n'''\\nprimes = []\\nfor num in range (2, 100):\\n    for factor in range (2, int(num**0.5) +1):\\n        if num % factor == 0:\\n            break #not prime\\n    else:\\n        print(f'{num} is prime!')\\n        primes.append(num)\\n\\nprimes\",\n",
       "  \"# all primes between 2 and 100 optimized\\n'''\\n->N IS PRIME IF it is not divisible by any number <= √N bcs\\nand knowing the prime numbers <= √N, we can only check those as factors, not all the numbers <= √N\\n'''\\nprimes = []\\nfor num in range (2, 100):\\n    for factor in range (2, int(num**0.5) +1):\\n        if num % factor == 0:\\n            break #not prime\\n    else:\\n        # print(f'{num} is prime!')\\n        primes.append(num)\\n\\nprimes\",\n",
       "  \"# all primes between 2 and 100 optimized\\n'''\\n->N IS PRIME IF it is not divisible by any number <= √N bcs\\nand knowing the prime numbers <= √N, we can only check those as factors, not all the numbers <= √N\\n'''\\nprimes = []\\nfor num in range (2, 100):\\n    for factor in range (2, int(num**0.5) +1):\\n        if num % factor == 0:\\n            break #not prime\\n    else:\\n        # print(f'{num} is prime!')\\n        primes.append(num)\\n\\nprimes\\n\\ndef allPrimesUpTo(num):\\n    prime_factors = [i for i in primes if i <= int(num**0.5) +1]\\n    for factor in prime_factors:\\n        if num % factor == 0:\\n            break #not prime\\n    else:\\n        print(f'{num} is prime!')\\n\\nallPrimesUpTo(15)\",\n",
       "  \"# all primes between 2 and 100 optimized\\n'''\\n->N IS PRIME IF it is not divisible by any number <= √N bcs\\nand knowing the prime numbers <= √N, we can only check those as factors, not all the numbers <= √N\\n'''\\nprimes = []\\nfor num in range (2, 100):\\n    for factor in range (2, int(num**0.5) +1):\\n        if num % factor == 0:\\n            break #not prime\\n    else:\\n        # print(f'{num} is prime!')\\n        primes.append(num)\\nprimes\\n\\ndef allPrimesUpTo(num):\\n    prime_factors = [i for i in primes if i <= int(num**0.5) +1]\\n    for factor in prime_factors:\\n        if num % factor == 0:\\n            print(f'{num} IS NOT prime!')\\n            break \\n    else:\\n        print(f'{num} is prime!')\\n\\nallPrimesUpTo(15)\",\n",
       "  \"# all primes between 2 and 100 optimized\\n'''\\n->N IS PRIME IF it is not divisible by any number <= √N bcs\\nand knowing the prime numbers <= √N, we can only check those as factors, not all the numbers <= √N\\n'''\\nprimes = []\\nfor num in range (2, 100):\\n    for factor in range (2, int(num**0.5) +1):\\n        if num % factor == 0:\\n            break #not prime\\n    else:\\n        # print(f'{num} is prime!')\\n        primes.append(num)\\nprimes\\n\\ndef allPrimesUpTo(num):\\n    prime_factors = [i for i in primes if i <= int(num**0.5) +1]\\n    for factor in prime_factors:\\n        if num % factor == 0:\\n            print(f'{num} is NOT prime!')\\n            break \\n    else:\\n        print(f'{num} is prime!')\\n\\nallPrimesUpTo(15)\",\n",
       "  \"# all primes between 2 and 100 optimized\\n'''\\n->N IS PRIME IF it is not divisible by any number <= √N bcs\\nand knowing the prime numbers <= √N, we can only check those as factors, not all the numbers <= √N\\n'''\\nprimes = []\\nfor num in range (2, 100):\\n    for factor in range (2, int(num**0.5) +1):\\n        if num % factor == 0:\\n            break #not prime\\n    else:\\n        # print(f'{num} is prime!')\\n        primes.append(num)\\nprimes\\n\\ndef allPrimesUpTo(num):\\n    prime_factors = [i for i in primes if i <= int(num**0.5) +1]\\n    for factor in prime_factors:\\n        if num % factor == 0:\\n            print(f'{num} is NOT prime!')\\n            break \\n    else:\\n        print(f'{num} is prime!')\\n\\nallPrimesUpTo(27)\",\n",
       "  \"# all primes between 2 and 100 optimized\\n'''\\n->N IS PRIME IF it is not divisible by any number <= √N bcs\\nand knowing the prime numbers <= √N, we can only check those as factors, not all the numbers <= √N\\n'''\\nprimes = []\\nfor num in range (2, 100):\\n    for factor in range (2, int(num**0.5) +1):\\n        if num % factor == 0:\\n            break #not prime\\n    else:\\n        # print(f'{num} is prime!')\\n        primes.append(num)\\nprimes\\n\\ndef allPrimesUpTo(num):\\n    prime_factors = [i for i in primes if i <= int(num**0.5) +1]\\n    for factor in prime_factors:\\n        if num % factor == 0:\\n            print(f'{num} is NOT prime!')\\n            break \\n    else:\\n        print(f'{num} is prime!')\\n\\nallPrimesUpTo(51)\",\n",
       "  \"# all primes between 2 and 100 optimized\\n'''\\n->N IS PRIME IF it is not divisible by any number <= √N bcs\\nand knowing the prime numbers <= √N, we can only check those as factors, not all the numbers <= √N\\n'''\\nprimes = []\\nfor num in range (2, 100):\\n    for factor in range (2, int(num**0.5) +1):\\n        if num % factor == 0:\\n            break #not prime\\n    else:\\n        # print(f'{num} is prime!')\\n        primes.append(num)\\nprimes\\n\\ndef allPrimesUpTo(num):\\n    prime_factors = [i for i in primes if i <= int(num**0.5) +1]\\n    for factor in prime_factors:\\n        if num % factor == 0:\\n            print(f'{num} is NOT prime!')\\n            break \\n    else:\\n        print(f'{num} is prime!')\\n\\nallPrimesUpTo(79)\",\n",
       "  \"# all primes between 2 and 100 optimized\\n'''\\n->N IS PRIME IF it is not divisible by any number <= √N bcs\\nand knowing the prime numbers <= √N, we can only check those as factors, not all the numbers <= √N\\n'''\\nprimes = []\\nfor num in range (2, 100):\\n    for factor in range (2, int(num**0.5) +1):\\n        if num % factor == 0:\\n            break #not prime\\n    else:\\n        # print(f'{num} is prime!')\\n        primes.append(num)\\nprimes\\n\\ndef allPrimesUpTo(num):\\n    prime_factors = [i for i in primes if i <= int(num**0.5) +1]\\n    for factor in prime_factors:\\n        if num % factor == 0:\\n            print(f'{num} is NOT prime!')\\n            break \\n    else:\\n        print(f'{num} is prime!')\\n        return (prime_factors)\\n\\n\\nli = allPrimesUpTo(79)\\nli\",\n",
       "  \"# all primes between 2 and 100 optimized\\n'''\\n->N IS PRIME IF it is not divisible by any number <= √N bcs\\nand knowing the prime numbers <= √N, we can only check those as factors, not all the numbers <= √N\\n'''\\nprimes = []\\nfor num in range (2, 100):\\n    for factor in range (2, int(num**0.5) +1):\\n        if num % factor == 0:\\n            break #not prime\\n    else:\\n        # print(f'{num} is prime!')\\n        primes.append(num)\\nprimes\\n\\ndef allPrimesUpTo(num):\\n    prime_factors = [i for i in primes if i <= int(num**0.5) +1]\\n    for factor in prime_factors:\\n        if num % factor == 0:\\n            print(f'{num} is NOT prime!')\\n            break \\n    else:\\n        print(f'{num} is prime!')\\n        return (prime_factors)\\n\\n\\nli = allPrimesUpTo(10)\\nli\",\n",
       "  \"# all primes between 2 and 100 optimized\\n'''\\n->N IS PRIME IF it is not divisible by any number <= √N bcs\\nand knowing the prime numbers <= √N, we can only check those as factors, not all the numbers <= √N\\n'''\\nprimes = []\\nfor num in range (2, 100):\\n    for factor in range (2, int(num**0.5) +1):\\n        if num % factor == 0:\\n            break #not prime\\n    else:\\n        # print(f'{num} is prime!')\\n        primes.append(num)\\nprimes\\n\\ndef allPrimesUpTo(num):\\n    prime_factors = [i for i in primes if i <= int(num**0.5) +1]\\n    for factor in prime_factors:\\n        if num % factor == 0:\\n            print(f'{num} is NOT prime!')\\n            break \\n    else:\\n        print(f'{num} is prime!')\\n    return (prime_factors)\\n\\n\\nli = allPrimesUpTo(10)\\nli\",\n",
       "  \"# all primes between 2 and 100 optimized\\n'''\\n->N IS PRIME IF it is not divisible by any number <= √N bcs\\nand knowing the prime numbers <= √N, we can only check those as factors, not all the numbers <= √N\\n'''\\nprimes = []\\nfor num in range (2, 100):\\n    for factor in range (2, int(num**0.5) +1):\\n        if num % factor == 0:\\n            break #not prime\\n    else:\\n        # print(f'{num} is prime!')\\n        primes.append(num)\\nprimes\\n\\ndef allPrimesUpTo(num):\\n    factors = [i for i in primes if i <= num]\\n    prime_factors = [i for i in primes if i <= int(num**0.5) +1]\\n    for factor in prime_factors:\\n        if num % factor == 0:\\n            print(f'{num} is NOT prime!')\\n            break \\n    else:\\n        print(f'{num} is prime!')\\n    return (factors)\\n\\n\\nli = allPrimesUpTo(10)\\nli\",\n",
       "  \"# all primes between 2 and 100 optimized\\n'''\\n->N IS PRIME IF it is not divisible by any number <= √N bcs\\nand knowing the prime numbers <= √N, we can only check those as factors, not all the numbers <= √N\\n'''\\nprimes = []\\nfor num in range (2, 100):\\n    for factor in range (2, int(num**0.5) +1):\\n        if num % factor == 0:\\n            break #not prime\\n    else:\\n        # print(f'{num} is prime!')\\n        primes.append(num)\\nprimes\\n\\ndef allPrimesUpTo(num):\\n    factors = [i for i in primes if i <= num]\\n    prime_factors = [i for i in primes if i <= int(num**0.5) +1]\\n    for factor in prime_factors:\\n        if num % factor == 0:\\n            print(f'{num} is NOT prime!')\\n            break \\n    else:\\n        print(f'{num} is prime!')\\n    return (factors)\\n\\n\\nli = allPrimesUpTo(200)\\nli\",\n",
       "  \"# all primes between 2 and 100 optimized\\n'''\\n->N IS PRIME IF it is not divisible by any number <= √N bcs\\nand knowing the prime numbers <= √N, we can only check those as factors, not all the numbers <= √N\\n'''\\ndef allPrimesUpTo(num):\\n    primes = [2]\\n    for number in range(3, num):\\n        sqrtNum = number**0.5\\n        for factor in primes:\\n            if number % factor == 0:\\n                # Not prime\\n                break\\n            if factor > sqrtNum:\\n                # Prime!\\n                primes.append(number)\\n                break\\n    return(primes)\\n\\n        \",\n",
       "  \"# all primes between 2 and 100 optimized\\n'''\\n->N IS PRIME IF it is not divisible by any number <= √N bcs\\nand knowing the prime numbers <= √N, we can only check those as factors, not all the numbers <= √N\\n'''\\ndef allPrimesUpTo(num):\\n    primes = [2]\\n    for number in range(3, num):\\n        sqrtNum = number**0.5\\n        for factor in primes:\\n            if number % factor == 0:\\n                # Not prime\\n                break\\n            if factor > sqrtNum:\\n                # Prime!\\n                primes.append(number)\\n                break\\n    return(primes)\\n\\nallPrimesUpTo(100)\\n\\n        \",\n",
       "  \"for number in range(1, 100):\\n    if number % 10 == 0:\\n        break\\nelse:\\n    print('Let\\\\'s print something out!')\",\n",
       "  \"def PerformOp (*args, **kargs):\\n    print(args)\\n    print(kargs)\\n\\n\\nPerformOp(1,2,3,4,5, op= 'sum')\",\n",
       "  \"def PerformOp (*args, **kargs):\\n    print(args)\\n    print(kargs)\\n\\n\\nPerformOp(1,2,3,4,5, op = 'sum', mex = 'default mex')\",\n",
       "  \"import math \\n\\ndef PerformOp (*args, operation='sum'):\\n    if operation == 'sum':\\n        return sum(args)\\n    if operation == 'product'\\n        return math.prod(args)\\n\\nPerformOp(1,2,3,4,5)\",\n",
       "  \"import math \\n\\ndef PerformOp (*args, operation='sum'):\\n    if operation == 'sum':\\n        return sum(args)\\n    if operation == 'product':\\n        return math.prod(args)\\n\\nPerformOp(1,2,3,4,5)\",\n",
       "  'globals()',\n",
       "  '# global variables\\nglobals()',\n",
       "  '## variables scope',\n",
       "  'globals()'],\n",
       " '_oh': {7: 120,\n",
       "  8: 120,\n",
       "  23: __main__.Dog,\n",
       "  24: __main__.Dog,\n",
       "  25: 6,\n",
       "  26: 45,\n",
       "  28: Context(prec=28, rounding=ROUND_HALF_EVEN, Emin=-999999, Emax=999999, capitals=1, clamp=0, flags=[Inexact, FloatOperation, Rounded], traps=[InvalidOperation, DivisionByZero, Overflow]),\n",
       "  29: Context(prec=28, rounding=ROUND_HALF_EVEN, Emin=-999999, Emax=999999, capitals=1, clamp=0, flags=[Inexact, FloatOperation, Rounded], traps=[InvalidOperation, DivisionByZero, Overflow]),\n",
       "  30: 1.0100000000000002,\n",
       "  31: Decimal('1.010000000000000230926389122'),\n",
       "  32: 1.0100000000000002,\n",
       "  33: Decimal('1.010000000000000230926389122'),\n",
       "  34: 1.0100000000000002,\n",
       "  35: 0.10000000000000009,\n",
       "  36: Decimal('0.1000000000000000888178419700'),\n",
       "  37: Decimal('0.100000000000000088817841970012523233890533447265625'),\n",
       "  38: 0.10000000000000009,\n",
       "  41: False,\n",
       "  44: False,\n",
       "  45: True,\n",
       "  46: False,\n",
       "  50: 'my number is55',\n",
       "  51: 'my age is 55',\n",
       "  52: 'my age is 55',\n",
       "  54: \" MULTI LINE STRING untils '''\\nI am still in the string\\nstill in the string \\n\",\n",
       "  58: b'\\x00\\x00\\x00\\x00',\n",
       "  59: 5,\n",
       "  60: True,\n",
       "  62: True,\n",
       "  63: True,\n",
       "  66: 41531,\n",
       "  67: 41531,\n",
       "  68: 2,\n",
       "  69: 2,\n",
       "  70: 1,\n",
       "  71: 'buzz',\n",
       "  72: 'n',\n",
       "  73: 7,\n",
       "  74: [1, 2, 'fizz', 4, 'buzz', 'fizz', 7, 8, 'fizz', 'buzz'],\n",
       "  75: datetime.datetime(2025, 8, 13, 6, 55, 27, 413464),\n",
       "  76: 48,\n",
       "  77: 58,\n",
       "  78: 5,\n",
       "  98: [2,\n",
       "   3,\n",
       "   5,\n",
       "   7,\n",
       "   11,\n",
       "   13,\n",
       "   17,\n",
       "   19,\n",
       "   23,\n",
       "   29,\n",
       "   31,\n",
       "   37,\n",
       "   41,\n",
       "   43,\n",
       "   47,\n",
       "   53,\n",
       "   59,\n",
       "   61,\n",
       "   67,\n",
       "   71,\n",
       "   73,\n",
       "   79,\n",
       "   83,\n",
       "   89,\n",
       "   97],\n",
       "  99: [2,\n",
       "   3,\n",
       "   5,\n",
       "   7,\n",
       "   11,\n",
       "   13,\n",
       "   17,\n",
       "   19,\n",
       "   23,\n",
       "   29,\n",
       "   31,\n",
       "   37,\n",
       "   41,\n",
       "   43,\n",
       "   47,\n",
       "   53,\n",
       "   59,\n",
       "   61,\n",
       "   67,\n",
       "   71,\n",
       "   73,\n",
       "   79,\n",
       "   83,\n",
       "   89,\n",
       "   97],\n",
       "  106: [2, 3, 5, 7],\n",
       "  108: [2, 3],\n",
       "  109: [2, 3, 5, 7],\n",
       "  110: [2,\n",
       "   3,\n",
       "   5,\n",
       "   7,\n",
       "   11,\n",
       "   13,\n",
       "   17,\n",
       "   19,\n",
       "   23,\n",
       "   29,\n",
       "   31,\n",
       "   37,\n",
       "   41,\n",
       "   43,\n",
       "   47,\n",
       "   53,\n",
       "   59,\n",
       "   61,\n",
       "   67,\n",
       "   71,\n",
       "   73,\n",
       "   79,\n",
       "   83,\n",
       "   89,\n",
       "   97],\n",
       "  112: [2,\n",
       "   3,\n",
       "   5,\n",
       "   7,\n",
       "   11,\n",
       "   13,\n",
       "   17,\n",
       "   19,\n",
       "   23,\n",
       "   29,\n",
       "   31,\n",
       "   37,\n",
       "   41,\n",
       "   43,\n",
       "   47,\n",
       "   53,\n",
       "   59,\n",
       "   61,\n",
       "   67,\n",
       "   71,\n",
       "   73,\n",
       "   79,\n",
       "   83,\n",
       "   89,\n",
       "   97],\n",
       "  117: 15,\n",
       "  118: {...},\n",
       "  119: {...}},\n",
       " '_dh': [WindowsPath('c:/Users/eshfeze/OneDrive - Essity/Documents/python_ll')],\n",
       " 'In': ['',\n",
       "  'def fact (num):\\n    res =  1\\n    for i in range (1, i+1):\\n        print(i)\\n\\n\\ndef(5)',\n",
       "  'def fact (num):\\n    res =  1\\n    for i in range (1, i+1):\\n        print(i)\\n\\n\\nfact(5)',\n",
       "  'def fact(num):\\n    res =  1\\n    for i in range (1, i+1):\\n        print(i)\\n\\n\\nfact(5)',\n",
       "  'def fact(num):\\n    res =  1\\n    for i in range (1, num+1):\\n        print(i)\\n\\n\\nfact(5)',\n",
       "  'def fact(num):\\n    res =  1\\n    for i in range (1, num+1):\\n        print(i)\\n        res = res*i\\n        # res *= i\\n\\n\\nfact(5)',\n",
       "  'def fact(num):\\n    res =  1\\n    for i in range (1, num+1):\\n        print(i)\\n        res = res*i\\n        # res *= i\\n\\n\\nfact(5)',\n",
       "  'def fact(num):\\n    res =  1\\n    for i in range (1, num+1):\\n        # print(i)\\n        res = res*i\\n        # res *= i\\n    return res\\n\\n\\n\\nfact(5)',\n",
       "  'def fact(num):\\n    if isinstance(num, int) and num>0 or num==0:\\n        res =  1\\n        for i in range (1, num+1):\\n            # print(i)\\n            res = res*i\\n            # res *= i\\n        return res\\n    else:\\n        res = None\\n\\n\\n\\nfact(5)',\n",
       "  'def fact(num):\\n    if isinstance(num, int) and num>0 or num==0:\\n        res =  1\\n        for i in range (1, num+1):\\n            # print(i)\\n            res = res*i\\n            # res *= i\\n        return res\\n    else:\\n        res = None\\n\\n\\n\\nfact(-5)',\n",
       "  'def fact(num):\\n    if isinstance(num, int) and num>0 or num==0:\\n        res =  1\\n        for i in range (1, num+1):\\n            # print(i)\\n            res = res*i\\n            # res *= i\\n        return res\\n    else:\\n        res = None\\n\\n\\n\\nfact(-5)',\n",
       "  'def fact(num):\\n    if isinstance(num, int) and num>0 or num==0:\\n        res =  1\\n        for i in range (1, num+1):\\n            # print(i)\\n            res = res*i\\n            # res *= i\\n        return res\\n    else:\\n        res = None\\n\\n\\n\\nfact(3.2))',\n",
       "  'def fact(num):\\n    if isinstance(num, int) and num>0 or num==0:\\n        res =  1\\n        for i in range (1, num+1):\\n            # print(i)\\n            res = res*i\\n            # res *= i\\n        return res\\n    else:\\n        res = None\\n\\n\\n\\nfact(3.2)',\n",
       "  'def fact(num):\\n    if isinstance(num, int) and num>0 or num==0:\\n        res =  1\\n        for i in range (1, num+1):\\n            # print(i)\\n            res = res*i\\n            # res *= i\\n        return res\\n    else:\\n        res = None\\n        print(type(res))\\n\\n\\n\\nfact(3.2)',\n",
       "  '#fx factorial of number, only 0 or positive integer, else the fx returns None\\ndef fact(num):\\n    if isinstance(num, int) and num>0 or num==0:\\n        res =  1\\n        for i in range (1, num+1):\\n            res = res*i # res *= i\\n        return res\\n    else:\\n        res = None\\n        print(type(res))\\n\\n\\n\\nfact(3.2)',\n",
       "  '#fx factorial of number, only 0 or positive integer, else the fx returns None\\ndef fact(num):\\n    if isinstance(num, int) and num>0 or num==0:\\n        res =  1\\n        for i in range (1, num+1):\\n            res = res*i # res *= i\\n        return res\\n    else:\\n        res = None\\n        print(type(res))\\n\\n\\n\\nfact(3.2)\\nnumber = 5\\nresult = Answer.factorial(number)',\n",
       "  '#fx factorial of number, only 0 or positive integer, else the fx returns None\\ndef fact(num):\\n    if isinstance(num, int) and num>0 or num==0:\\n        res =  1\\n        for i in range (1, num+1):\\n            res = res*i # res *= i\\n        return res\\n    else:\\n        res = None\\n        print(type(res))\\n\\n\\n\\nfact(3.2)',\n",
       "  'def fact1(num):\\n    if num < 0 or isinstance(num, int)==False:\\n        return None\\n    else:\\n        i = 1\\n        res = 0\\n        while i <= num:\\n            print(i)\\n            res = num * i\\n            print(res)\\n\\nfact1(3.5)',\n",
       "  'def fact1(num):\\n    if num < 0 or isinstance(num, int)==False:\\n        return None\\n    else:\\n        i = 1\\n        res = 0\\n        while i <= num:\\n            print(i)\\n            res = num * i\\n            print(res)\\n\\nfact1(3)',\n",
       "  'def fact1(num):\\n    if num < 0 or isinstance(num, int)==False:\\n        return None\\n    else:\\n        i = 1\\n        res = 1\\n        while i <= num:\\n            print(i)\\n            res = res * i\\n            print(res)\\n\\nfact1(3)',\n",
       "  'def fact1(num):\\n    if num < 0 or isinstance(num, int)==False:\\n        return None\\n    else:\\n        i = 1\\n        res = 1\\n        while i <= num:\\n            print(i)\\n            res = res * i\\n            print(res)\\n            i += 1\\n\\nfact1(3)',\n",
       "  'def fact1(num):\\n    if num < 0 or isinstance(num, int)==False:\\n        return None\\n    else:\\n        i = 1\\n        res = 1\\n        while i <= num:\\n            res = res * i\\n            print(res)\\n            i += 1\\n\\nfact1(3)',\n",
       "  'def fact1(num):\\n    if num < 0 or isinstance(num, int)==False:\\n        return None\\n    else:\\n        i = 1\\n        res = 1\\n        while i <= num:\\n            res = res * i\\n            i += 1\\n\\nfact1(5)',\n",
       "  \"class Dog:\\n    def __init__(self, name):\\n        self.name = name\\n        self.legs = 4\\n\\n    def speak(self):\\n        print(self.name + ' says: Bark')\\n\\n\\ndog = Dog('Rover')\\ndog1 = Dog('Fluffy')\\ndog1.speak()\\n\\ntype(dog)\",\n",
       "  \"class Dog:\\n    def __init__(self, name):\\n        self.name = name\\n        self.legs = 4\\n\\n    def speak(self):\\n        print(self.name + ' says: Bark')\\n\\n\\ndog = Dog('Rover')\\ndog1 = Dog('Fluffy')\\ndog1.speak()\\n\\ntype(Dog('Rover'))\",\n",
       "  '456 % 10',\n",
       "  '456 % 10\\n456//10',\n",
       "  'a = [1,2,3,4]\\nwhile True:\\n    print(a[0])',\n",
       "  'from decimal import Decimal, getcontext\\n\\ngetcontext()',\n",
       "  'from decimal import Decimal, getcontext\\n\\ngetcontext()',\n",
       "  '3.12 - 2.11',\n",
       "  'float_imprec = 3.12 - 2.11\\n\\ndecim_prec = Decimal(3.12) - Decimal(2.11)\\n\\ndecim_prec',\n",
       "  'float_imprec = 3.12 - 2.11\\n\\ndecim_prec = Decimal(3.12) - Decimal(2.11)\\n\\nfloat_imprec\\n# decim_prec',\n",
       "  'float_imprec = 3.12 - 2.11\\n\\ndecim_prec = Decimal(3.12) - Decimal(2.11)\\n\\nfloat_imprec\\ndecim_prec',\n",
       "  'float_imprec = 3.12 - 2.11\\n\\ndecim_prec = Decimal(3.12) - Decimal(2.11)\\n\\nfloat_imprec\\n# decim_prec',\n",
       "  '1.5-1.4',\n",
       "  'Decimal(1.5)-Decimal(1.4)',\n",
       "  'Decimal(1.5 - 1.4)',\n",
       "  '1.5-1.4',\n",
       "  'print(f\"float ouput 1.5-1.4 is: {1.5-1.4}\")',\n",
       "  'print(f\"float ouput 1.5-1.4 seems not correct: {1.5-1.4}\")\\nprint(f\"correct rounded ouput round(1.5-1.4, 3) is: {round(1.5-1.4, 3)}\")',\n",
       "  \"bool('')\\nbool(0)\\nbool(None)\",\n",
       "  \"# output 'False'\\nbool('')\\nbool(0)\\nbool(None)\\nbool([])\\nbool[{}]\",\n",
       "  \"# output 'False'\\nbool('')\\nbool(0)\\nbool('None')\\nbool([])\\nbool[{}]\",\n",
       "  \"# output 'False'\\nbool('')\\nbool(0)\\nbool('None')\\nbool([])\\nbool({})\",\n",
       "  \"# output 'False'\\nbool('')\\nbool(0)\\nbool('None')\\n# bool([])\\n# bool({})\",\n",
       "  \"# output 'False'\\nbool('')\\nbool(0)\\nbool()\\n# bool([])\\n# bool({})\",\n",
       "  \"ombr = True\\nschWet = False\\n\\nif ombr or schWet:\\n    print('go!')\\nelse:\\n    print('stay')\",\n",
       "  \"ombr = False\\nschWet = False\\n\\nif ombr or schWet:\\n    print('go!')\\nelse:\\n    print('stay')\",\n",
       "  \"ombr = False\\nschWet = True\\n\\nif ombr or schWet:\\n    print('go!')\\nelse:\\n    print('stay')\",\n",
       "  \"'my number is'+str(55)\",\n",
       "  \"'my age is '+str(55)\",\n",
       "  \"'my age is '+str(55)\\nf'my age is {50+5}'\",\n",
       "  \"'my age is '+str(55)\\nf'my age is {50+5}'\\n\\nmanyLine = ''' MULTI LINE STRING untils \\\\'\\\\'\\\\'\\nI am still in the string\\nstill in the string \\n'''\",\n",
       "  \"'my age is '+str(55)\\nf'my age is {50+5}'\\n\\nmanyLine = ''' MULTI LINE STRING untils \\\\'\\\\'\\\\'\\nI am still in the string\\nstill in the string \\n'''\\nmanyLine\",\n",
       "  \"'my age is '+str(55)\\nf'my age is {50+5}'\\n\\nmanyLine = ''' MULTI LINE STRING untils \\\\'\\\\'\\\\'\\nI am still in the string\\nstill in the string \\n'''\\nprint(manyLine)\",\n",
       "  \"'my age is '+str(55)\\nf'my age is {50+5}'\\n\\nmanyLine = '''\\nMULTI LINE STRING untils \\\\'\\\\'\\\\'\\nI am still in the string\\nstill in the string \\n'''\\nprint(manyLine)\",\n",
       "  'byte(4)',\n",
       "  'bytes(4)',\n",
       "  \"int('101',2)\",\n",
       "  \"int('101',2)\\nbool(-1) == 1\",\n",
       "  \"int('101',2)\\nbool(-1) == 1\\ntrue == 1\",\n",
       "  \"int('101',2)\\nbool(-1) == 1\\nTrue == 1\",\n",
       "  \"int('101',2)\\nbool(-1) == 1\\nbool(-1)\",\n",
       "  '#fx to convert hexnumbers to decimal numbers\\nhexNumbers = {\\n    \\'0\\': 0, \\'1\\': 1, \\'2\\': 2, \\'3\\': 3, \\'4\\': 4, \\'5\\': 5, \\'6\\': 6, \\'7\\': 7, \\'8\\': 8, \\'9\\': 9,\\n    \\'A\\': 10, \\'B\\': 11, \\'C\\': 12, \\'D\\': 13, \\'E\\': 14, \\'F\\': 15\\n}\\n\\ndef conv_dec(num):\\n    for char in num:\\n        if char not in hexNumbers:\\n            print(\"error\")\\n            return(None)\\n    conv = 0\\n    exp = len(num)-1\\n    for char in num:\\n        conv = conv + (num[char] * (16**exp))\\n        exp = exp - 1\\n    return conv\\n\\nconv_dec(4)',\n",
       "  '#fx to convert hexnumbers to decimal numbers\\nhexNumbers = {\\n    \\'0\\': 0, \\'1\\': 1, \\'2\\': 2, \\'3\\': 3, \\'4\\': 4, \\'5\\': 5, \\'6\\': 6, \\'7\\': 7, \\'8\\': 8, \\'9\\': 9,\\n    \\'A\\': 10, \\'B\\': 11, \\'C\\': 12, \\'D\\': 13, \\'E\\': 14, \\'F\\': 15\\n}\\n\\ndef conv_dec(num):\\n    for char in num:\\n        if char not in hexNumbers:\\n            print(\"error\")\\n            return(None)\\n    conv = 0\\n    exp = len(num)-1\\n    for char in num:\\n        conv = conv + (num[char] * (16**exp))\\n        exp = exp - 1\\n    return conv\\n\\nconv_dec(\\'A23B\\')',\n",
       "  '#fx to convert hexnumbers to decimal numbers\\nhexNumbers = {\\n    \\'0\\': 0, \\'1\\': 1, \\'2\\': 2, \\'3\\': 3, \\'4\\': 4, \\'5\\': 5, \\'6\\': 6, \\'7\\': 7, \\'8\\': 8, \\'9\\': 9,\\n    \\'A\\': 10, \\'B\\': 11, \\'C\\': 12, \\'D\\': 13, \\'E\\': 14, \\'F\\': 15\\n}\\n\\ndef conv_dec(num):\\n    for char in num:\\n        if char not in hexNumbers:\\n            print(\"error\")\\n            return(None)\\n    conv = 0\\n    exp = len(num)-1\\n    for char in num:\\n        conv = conv + (hexNumbers[char] * (16**exp))\\n        exp = exp - 1\\n    return conv\\n\\nconv_dec(\\'A23B\\')',\n",
       "  '11+(3*16)+(2*16**2)+(10*16**3)',\n",
       "  'n= 5\\nn % 3',\n",
       "  'n = 5\\nn % 3',\n",
       "  'n // 3',\n",
       "  \"n = 5\\n'fizz' if n % 3 == 0 else 'buzz' if n % 5 == 0 else 'n'\",\n",
       "  \"n = 7\\n'fizz' if n % 3 == 0 else 'buzz' if n % 5 == 0 else 'n'\",\n",
       "  \"n = 7\\n'fizz' if n % 3 == 0 else 'buzz' if n % 5 == 0 else n\",\n",
       "  \"['fizz' if n%3==0 else 'buzz' if n%5==0 else n for n in range(1, 11)]\",\n",
       "  'from datetime import datetime\\ndatetime.now()',\n",
       "  'datetime.now().second +2',\n",
       "  '#2 sec in the future\\n(datetime.now().second +2) %60',\n",
       "  '#2 sec in the future\\n(datetime.now().second +2) %60',\n",
       "  \"#2 sec in the future\\nwait_until = (datetime.now().second +2) %60\\n\\nwhile datetime.now().second != wait_until:\\n    pass\\nprint(f'we are at {wait_until} seconds')\",\n",
       "  \"#2 sec in the future\\nwait_until = (datetime.now().second +2) %60\\n\\nwhile datetime.now().second != wait_until:\\n    pass\\nprint(f'we are at {wait_until} seconds')\",\n",
       "  \"while True:\\n    if datetime.now() == wait_until:\\n        print(f'we are at {wait_until} seconds')\\n        break\",\n",
       "  \"#2 sec in the future\\nwait_until = (datetime.now().second +2) %60\\n\\nwhile True:\\n    if datetime.now() == wait_until:\\n        print(f'we are at {wait_until} seconds')\\n        break\",\n",
       "  \"#2 sec in the future\\nwait_until = (datetime.now().second +2) %60\\n\\nwhile True:\\n    if datetime.now().seconds == wait_until:\\n        print(f'we are at {wait_until} seconds')\\n        break\",\n",
       "  \"#2 sec in the future\\nwait_until = (datetime.now().second +2) %60\\n\\nwhile True:\\n    if datetime.now().seconds == wait_until:\\n        print(f'we are at {wait_until} seconds')\\n        break\",\n",
       "  \"#2 sec in the future\\nwait_until = (datetime.now().second +2) %60\\n\\nwhile True:\\n    if datetime.now().second == wait_until:\\n        print(f'we are at {wait_until} seconds')\\n        break\",\n",
       "  'from datetime import datetime\\nimport time\\n\\nprint(f\"Current time: {datetime.now().time()}\")\\n\\n# Wait for 2 seconds\\ntime.sleep(2)\\n\\nprint(f\"Now it\\'s: {datetime.now().time()}\")',\n",
       "  'from datetime import datetime\\nimport time\\n\\nprint(f\"Current time: {datetime.now().time()}\")\\n\\n# Wait for 5 seconds\\ntime.sleep(5)\\n\\nprint(f\"Now it\\'s: {datetime.now().time()}\")',\n",
       "  \"#2 sec in the future\\nwait_until = (datetime.now().second +2) %60\\n\\nwhile True:\\n    if datetime.now().second < wait_until:\\n        continue\\n    break\\nprint(f'we are at {wait_until} seconds')\",\n",
       "  \"#2 sec in the future\\nwait_until = (datetime.now().second +2) %60\\n\\nwhile True:\\n    if datetime.now().second < wait_until:\\n        continue\\n    break\\nprint(f'we are at {wait_until} seconds')\",\n",
       "  \"#2 sec in the future\\nwait_until = (datetime.now().second +2) %60\\n\\nwhile True:\\n    if datetime.now().second < wait_until:\\n        continue\\n    break\\nprint(f'we are at {wait_until} seconds')\",\n",
       "  \"lkpAnimal = {\\n    'a' : ['aardwark', 'antelope'],\\n    'b' : ['bear'],\\n    'c' : ['cat'],\\n    'd' : ['dog']\\n}\",\n",
       "  \"lkpAnimal = {\\n    'a' : ['aardwark', 'antelope'],\\n    'b' : ['bear'],\\n    'c' : ['cat'],\\n    'd' : ['dog']\\n}\\n\\nfor letter, animals in lkpAnimal.items():\\n    pass\",\n",
       "  \"for letter, animals in lkpAnimal.items():\\n    if len(animals)>1:\\n        continue\\n    print(f'only one animal with letter {letter}: {animails}')\",\n",
       "  \"for letter, animals in lkpAnimal.items():\\n    if len(animals)>1:\\n        continue\\n    print(f'only one animal with letter {letter}: {animals}')\",\n",
       "  \"for letter, animals in lkpAnimal.items():\\n    if len(animals)>1:\\n        print(f'found {len(animals)}: {animals}')\\n        break\\n    print(f'only one animal with letter {letter}: {animals}')\",\n",
       "  \"# all primes between 2 and 100\\nfor num in range (2, 100):\\n    for factor in range (2, num**0.5) +1):\\n        if num % factor == 0:\\n            break #not prime\\n    else:\\n        print(f'{num} is prime!')\",\n",
       "  \"# all primes between 2 and 100\\nfor num in range (2, 100):\\n    for factor in range (2, int(num**0.5) +1):\\n        if num % factor == 0:\\n            break #not prime\\n    else:\\n        print(f'{num} is prime!')\",\n",
       "  \"# all primes between 2 and 100 optimized\\n'''\\n->N IS PRIME IF it is not divisible by any number <= √N bcs\\nand knowing the prime numbers <= √N, we can only check those as factors, not all the numbers <= √N\\n'''\\nprimes = []\\nfor num in range (2, 100):\\n    for factor in range (2, int(num**0.5) +1):\\n        if num % factor == 0:\\n            break #not prime\\n    else:\\n        print(f'{num} is prime!')\\n        primes.append(num)\\n\\nprimes\",\n",
       "  \"# all primes between 2 and 100 optimized\\n'''\\n->N IS PRIME IF it is not divisible by any number <= √N bcs\\nand knowing the prime numbers <= √N, we can only check those as factors, not all the numbers <= √N\\n'''\\nprimes = []\\nfor num in range (2, 100):\\n    for factor in range (2, int(num**0.5) +1):\\n        if num % factor == 0:\\n            break #not prime\\n    else:\\n        # print(f'{num} is prime!')\\n        primes.append(num)\\n\\nprimes\",\n",
       "  \"# all primes between 2 and 100 optimized\\n'''\\n->N IS PRIME IF it is not divisible by any number <= √N bcs\\nand knowing the prime numbers <= √N, we can only check those as factors, not all the numbers <= √N\\n'''\\nprimes = []\\nfor num in range (2, 100):\\n    for factor in range (2, int(num**0.5) +1):\\n        if num % factor == 0:\\n            break #not prime\\n    else:\\n        # print(f'{num} is prime!')\\n        primes.append(num)\\n\\nprimes\\n\\ndef allPrimesUpTo(num):\\n    prime_factors = [i for i in primes if i <= int(num**0.5) +1]\\n    for factor in prime_factors:\\n        if num % factor == 0:\\n            break #not prime\\n    else:\\n        print(f'{num} is prime!')\\n\\nallPrimesUpTo(15)\",\n",
       "  \"# all primes between 2 and 100 optimized\\n'''\\n->N IS PRIME IF it is not divisible by any number <= √N bcs\\nand knowing the prime numbers <= √N, we can only check those as factors, not all the numbers <= √N\\n'''\\nprimes = []\\nfor num in range (2, 100):\\n    for factor in range (2, int(num**0.5) +1):\\n        if num % factor == 0:\\n            break #not prime\\n    else:\\n        # print(f'{num} is prime!')\\n        primes.append(num)\\nprimes\\n\\ndef allPrimesUpTo(num):\\n    prime_factors = [i for i in primes if i <= int(num**0.5) +1]\\n    for factor in prime_factors:\\n        if num % factor == 0:\\n            print(f'{num} IS NOT prime!')\\n            break \\n    else:\\n        print(f'{num} is prime!')\\n\\nallPrimesUpTo(15)\",\n",
       "  \"# all primes between 2 and 100 optimized\\n'''\\n->N IS PRIME IF it is not divisible by any number <= √N bcs\\nand knowing the prime numbers <= √N, we can only check those as factors, not all the numbers <= √N\\n'''\\nprimes = []\\nfor num in range (2, 100):\\n    for factor in range (2, int(num**0.5) +1):\\n        if num % factor == 0:\\n            break #not prime\\n    else:\\n        # print(f'{num} is prime!')\\n        primes.append(num)\\nprimes\\n\\ndef allPrimesUpTo(num):\\n    prime_factors = [i for i in primes if i <= int(num**0.5) +1]\\n    for factor in prime_factors:\\n        if num % factor == 0:\\n            print(f'{num} is NOT prime!')\\n            break \\n    else:\\n        print(f'{num} is prime!')\\n\\nallPrimesUpTo(15)\",\n",
       "  \"# all primes between 2 and 100 optimized\\n'''\\n->N IS PRIME IF it is not divisible by any number <= √N bcs\\nand knowing the prime numbers <= √N, we can only check those as factors, not all the numbers <= √N\\n'''\\nprimes = []\\nfor num in range (2, 100):\\n    for factor in range (2, int(num**0.5) +1):\\n        if num % factor == 0:\\n            break #not prime\\n    else:\\n        # print(f'{num} is prime!')\\n        primes.append(num)\\nprimes\\n\\ndef allPrimesUpTo(num):\\n    prime_factors = [i for i in primes if i <= int(num**0.5) +1]\\n    for factor in prime_factors:\\n        if num % factor == 0:\\n            print(f'{num} is NOT prime!')\\n            break \\n    else:\\n        print(f'{num} is prime!')\\n\\nallPrimesUpTo(27)\",\n",
       "  \"# all primes between 2 and 100 optimized\\n'''\\n->N IS PRIME IF it is not divisible by any number <= √N bcs\\nand knowing the prime numbers <= √N, we can only check those as factors, not all the numbers <= √N\\n'''\\nprimes = []\\nfor num in range (2, 100):\\n    for factor in range (2, int(num**0.5) +1):\\n        if num % factor == 0:\\n            break #not prime\\n    else:\\n        # print(f'{num} is prime!')\\n        primes.append(num)\\nprimes\\n\\ndef allPrimesUpTo(num):\\n    prime_factors = [i for i in primes if i <= int(num**0.5) +1]\\n    for factor in prime_factors:\\n        if num % factor == 0:\\n            print(f'{num} is NOT prime!')\\n            break \\n    else:\\n        print(f'{num} is prime!')\\n\\nallPrimesUpTo(51)\",\n",
       "  \"# all primes between 2 and 100 optimized\\n'''\\n->N IS PRIME IF it is not divisible by any number <= √N bcs\\nand knowing the prime numbers <= √N, we can only check those as factors, not all the numbers <= √N\\n'''\\nprimes = []\\nfor num in range (2, 100):\\n    for factor in range (2, int(num**0.5) +1):\\n        if num % factor == 0:\\n            break #not prime\\n    else:\\n        # print(f'{num} is prime!')\\n        primes.append(num)\\nprimes\\n\\ndef allPrimesUpTo(num):\\n    prime_factors = [i for i in primes if i <= int(num**0.5) +1]\\n    for factor in prime_factors:\\n        if num % factor == 0:\\n            print(f'{num} is NOT prime!')\\n            break \\n    else:\\n        print(f'{num} is prime!')\\n\\nallPrimesUpTo(79)\",\n",
       "  \"# all primes between 2 and 100 optimized\\n'''\\n->N IS PRIME IF it is not divisible by any number <= √N bcs\\nand knowing the prime numbers <= √N, we can only check those as factors, not all the numbers <= √N\\n'''\\nprimes = []\\nfor num in range (2, 100):\\n    for factor in range (2, int(num**0.5) +1):\\n        if num % factor == 0:\\n            break #not prime\\n    else:\\n        # print(f'{num} is prime!')\\n        primes.append(num)\\nprimes\\n\\ndef allPrimesUpTo(num):\\n    prime_factors = [i for i in primes if i <= int(num**0.5) +1]\\n    for factor in prime_factors:\\n        if num % factor == 0:\\n            print(f'{num} is NOT prime!')\\n            break \\n    else:\\n        print(f'{num} is prime!')\\n        return (prime_factors)\\n\\n\\nli = allPrimesUpTo(79)\\nli\",\n",
       "  \"# all primes between 2 and 100 optimized\\n'''\\n->N IS PRIME IF it is not divisible by any number <= √N bcs\\nand knowing the prime numbers <= √N, we can only check those as factors, not all the numbers <= √N\\n'''\\nprimes = []\\nfor num in range (2, 100):\\n    for factor in range (2, int(num**0.5) +1):\\n        if num % factor == 0:\\n            break #not prime\\n    else:\\n        # print(f'{num} is prime!')\\n        primes.append(num)\\nprimes\\n\\ndef allPrimesUpTo(num):\\n    prime_factors = [i for i in primes if i <= int(num**0.5) +1]\\n    for factor in prime_factors:\\n        if num % factor == 0:\\n            print(f'{num} is NOT prime!')\\n            break \\n    else:\\n        print(f'{num} is prime!')\\n        return (prime_factors)\\n\\n\\nli = allPrimesUpTo(10)\\nli\",\n",
       "  \"# all primes between 2 and 100 optimized\\n'''\\n->N IS PRIME IF it is not divisible by any number <= √N bcs\\nand knowing the prime numbers <= √N, we can only check those as factors, not all the numbers <= √N\\n'''\\nprimes = []\\nfor num in range (2, 100):\\n    for factor in range (2, int(num**0.5) +1):\\n        if num % factor == 0:\\n            break #not prime\\n    else:\\n        # print(f'{num} is prime!')\\n        primes.append(num)\\nprimes\\n\\ndef allPrimesUpTo(num):\\n    prime_factors = [i for i in primes if i <= int(num**0.5) +1]\\n    for factor in prime_factors:\\n        if num % factor == 0:\\n            print(f'{num} is NOT prime!')\\n            break \\n    else:\\n        print(f'{num} is prime!')\\n    return (prime_factors)\\n\\n\\nli = allPrimesUpTo(10)\\nli\",\n",
       "  \"# all primes between 2 and 100 optimized\\n'''\\n->N IS PRIME IF it is not divisible by any number <= √N bcs\\nand knowing the prime numbers <= √N, we can only check those as factors, not all the numbers <= √N\\n'''\\nprimes = []\\nfor num in range (2, 100):\\n    for factor in range (2, int(num**0.5) +1):\\n        if num % factor == 0:\\n            break #not prime\\n    else:\\n        # print(f'{num} is prime!')\\n        primes.append(num)\\nprimes\\n\\ndef allPrimesUpTo(num):\\n    factors = [i for i in primes if i <= num]\\n    prime_factors = [i for i in primes if i <= int(num**0.5) +1]\\n    for factor in prime_factors:\\n        if num % factor == 0:\\n            print(f'{num} is NOT prime!')\\n            break \\n    else:\\n        print(f'{num} is prime!')\\n    return (factors)\\n\\n\\nli = allPrimesUpTo(10)\\nli\",\n",
       "  \"# all primes between 2 and 100 optimized\\n'''\\n->N IS PRIME IF it is not divisible by any number <= √N bcs\\nand knowing the prime numbers <= √N, we can only check those as factors, not all the numbers <= √N\\n'''\\nprimes = []\\nfor num in range (2, 100):\\n    for factor in range (2, int(num**0.5) +1):\\n        if num % factor == 0:\\n            break #not prime\\n    else:\\n        # print(f'{num} is prime!')\\n        primes.append(num)\\nprimes\\n\\ndef allPrimesUpTo(num):\\n    factors = [i for i in primes if i <= num]\\n    prime_factors = [i for i in primes if i <= int(num**0.5) +1]\\n    for factor in prime_factors:\\n        if num % factor == 0:\\n            print(f'{num} is NOT prime!')\\n            break \\n    else:\\n        print(f'{num} is prime!')\\n    return (factors)\\n\\n\\nli = allPrimesUpTo(200)\\nli\",\n",
       "  \"# all primes between 2 and 100 optimized\\n'''\\n->N IS PRIME IF it is not divisible by any number <= √N bcs\\nand knowing the prime numbers <= √N, we can only check those as factors, not all the numbers <= √N\\n'''\\ndef allPrimesUpTo(num):\\n    primes = [2]\\n    for number in range(3, num):\\n        sqrtNum = number**0.5\\n        for factor in primes:\\n            if number % factor == 0:\\n                # Not prime\\n                break\\n            if factor > sqrtNum:\\n                # Prime!\\n                primes.append(number)\\n                break\\n    return(primes)\\n\\n        \",\n",
       "  \"# all primes between 2 and 100 optimized\\n'''\\n->N IS PRIME IF it is not divisible by any number <= √N bcs\\nand knowing the prime numbers <= √N, we can only check those as factors, not all the numbers <= √N\\n'''\\ndef allPrimesUpTo(num):\\n    primes = [2]\\n    for number in range(3, num):\\n        sqrtNum = number**0.5\\n        for factor in primes:\\n            if number % factor == 0:\\n                # Not prime\\n                break\\n            if factor > sqrtNum:\\n                # Prime!\\n                primes.append(number)\\n                break\\n    return(primes)\\n\\nallPrimesUpTo(100)\\n\\n        \",\n",
       "  \"for number in range(1, 100):\\n    if number % 10 == 0:\\n        break\\nelse:\\n    print('Let\\\\'s print something out!')\",\n",
       "  \"def PerformOp (*args, **kargs):\\n    print(args)\\n    print(kargs)\\n\\n\\nPerformOp(1,2,3,4,5, op= 'sum')\",\n",
       "  \"def PerformOp (*args, **kargs):\\n    print(args)\\n    print(kargs)\\n\\n\\nPerformOp(1,2,3,4,5, op = 'sum', mex = 'default mex')\",\n",
       "  \"import math \\n\\ndef PerformOp (*args, operation='sum'):\\n    if operation == 'sum':\\n        return sum(args)\\n    if operation == 'product'\\n        return math.prod(args)\\n\\nPerformOp(1,2,3,4,5)\",\n",
       "  \"import math \\n\\ndef PerformOp (*args, operation='sum'):\\n    if operation == 'sum':\\n        return sum(args)\\n    if operation == 'product':\\n        return math.prod(args)\\n\\nPerformOp(1,2,3,4,5)\",\n",
       "  'globals()',\n",
       "  '# global variables\\nglobals()',\n",
       "  '## variables scope',\n",
       "  'globals()'],\n",
       " 'Out': {7: 120,\n",
       "  8: 120,\n",
       "  23: __main__.Dog,\n",
       "  24: __main__.Dog,\n",
       "  25: 6,\n",
       "  26: 45,\n",
       "  28: Context(prec=28, rounding=ROUND_HALF_EVEN, Emin=-999999, Emax=999999, capitals=1, clamp=0, flags=[Inexact, FloatOperation, Rounded], traps=[InvalidOperation, DivisionByZero, Overflow]),\n",
       "  29: Context(prec=28, rounding=ROUND_HALF_EVEN, Emin=-999999, Emax=999999, capitals=1, clamp=0, flags=[Inexact, FloatOperation, Rounded], traps=[InvalidOperation, DivisionByZero, Overflow]),\n",
       "  30: 1.0100000000000002,\n",
       "  31: Decimal('1.010000000000000230926389122'),\n",
       "  32: 1.0100000000000002,\n",
       "  33: Decimal('1.010000000000000230926389122'),\n",
       "  34: 1.0100000000000002,\n",
       "  35: 0.10000000000000009,\n",
       "  36: Decimal('0.1000000000000000888178419700'),\n",
       "  37: Decimal('0.100000000000000088817841970012523233890533447265625'),\n",
       "  38: 0.10000000000000009,\n",
       "  41: False,\n",
       "  44: False,\n",
       "  45: True,\n",
       "  46: False,\n",
       "  50: 'my number is55',\n",
       "  51: 'my age is 55',\n",
       "  52: 'my age is 55',\n",
       "  54: \" MULTI LINE STRING untils '''\\nI am still in the string\\nstill in the string \\n\",\n",
       "  58: b'\\x00\\x00\\x00\\x00',\n",
       "  59: 5,\n",
       "  60: True,\n",
       "  62: True,\n",
       "  63: True,\n",
       "  66: 41531,\n",
       "  67: 41531,\n",
       "  68: 2,\n",
       "  69: 2,\n",
       "  70: 1,\n",
       "  71: 'buzz',\n",
       "  72: 'n',\n",
       "  73: 7,\n",
       "  74: [1, 2, 'fizz', 4, 'buzz', 'fizz', 7, 8, 'fizz', 'buzz'],\n",
       "  75: datetime.datetime(2025, 8, 13, 6, 55, 27, 413464),\n",
       "  76: 48,\n",
       "  77: 58,\n",
       "  78: 5,\n",
       "  98: [2,\n",
       "   3,\n",
       "   5,\n",
       "   7,\n",
       "   11,\n",
       "   13,\n",
       "   17,\n",
       "   19,\n",
       "   23,\n",
       "   29,\n",
       "   31,\n",
       "   37,\n",
       "   41,\n",
       "   43,\n",
       "   47,\n",
       "   53,\n",
       "   59,\n",
       "   61,\n",
       "   67,\n",
       "   71,\n",
       "   73,\n",
       "   79,\n",
       "   83,\n",
       "   89,\n",
       "   97],\n",
       "  99: [2,\n",
       "   3,\n",
       "   5,\n",
       "   7,\n",
       "   11,\n",
       "   13,\n",
       "   17,\n",
       "   19,\n",
       "   23,\n",
       "   29,\n",
       "   31,\n",
       "   37,\n",
       "   41,\n",
       "   43,\n",
       "   47,\n",
       "   53,\n",
       "   59,\n",
       "   61,\n",
       "   67,\n",
       "   71,\n",
       "   73,\n",
       "   79,\n",
       "   83,\n",
       "   89,\n",
       "   97],\n",
       "  106: [2, 3, 5, 7],\n",
       "  108: [2, 3],\n",
       "  109: [2, 3, 5, 7],\n",
       "  110: [2,\n",
       "   3,\n",
       "   5,\n",
       "   7,\n",
       "   11,\n",
       "   13,\n",
       "   17,\n",
       "   19,\n",
       "   23,\n",
       "   29,\n",
       "   31,\n",
       "   37,\n",
       "   41,\n",
       "   43,\n",
       "   47,\n",
       "   53,\n",
       "   59,\n",
       "   61,\n",
       "   67,\n",
       "   71,\n",
       "   73,\n",
       "   79,\n",
       "   83,\n",
       "   89,\n",
       "   97],\n",
       "  112: [2,\n",
       "   3,\n",
       "   5,\n",
       "   7,\n",
       "   11,\n",
       "   13,\n",
       "   17,\n",
       "   19,\n",
       "   23,\n",
       "   29,\n",
       "   31,\n",
       "   37,\n",
       "   41,\n",
       "   43,\n",
       "   47,\n",
       "   53,\n",
       "   59,\n",
       "   61,\n",
       "   67,\n",
       "   71,\n",
       "   73,\n",
       "   79,\n",
       "   83,\n",
       "   89,\n",
       "   97],\n",
       "  117: 15,\n",
       "  118: {...},\n",
       "  119: {...}},\n",
       " 'get_ipython': <bound method InteractiveShell.get_ipython of <ipykernel.zmqshell.ZMQInteractiveShell object at 0x000001BC2FA9EF90>>,\n",
       " 'exit': <IPython.core.autocall.ZMQExitAutocall at 0x1bc2fb38830>,\n",
       " 'quit': <IPython.core.autocall.ZMQExitAutocall at 0x1bc2fb38830>,\n",
       " 'open': <function _io.open(file, mode='r', buffering=-1, encoding=None, errors=None, newline=None, closefd=True, opener=None)>,\n",
       " '_': {...},\n",
       " '__': {...},\n",
       " '___': 15,\n",
       " '__vsc_ipynb_file__': 'c:\\\\Users\\\\eshfeze\\\\OneDrive - Essity\\\\Documents\\\\python_ll\\\\AAA_concepts.ipynb',\n",
       " '_i': '## variables scope',\n",
       " '_ii': '# global variables\\nglobals()',\n",
       " '_iii': 'globals()',\n",
       " '_i1': 'def fact (num):\\n    res =  1\\n    for i in range (1, i+1):\\n        print(i)\\n\\n\\ndef(5)',\n",
       " '_i2': 'def fact (num):\\n    res =  1\\n    for i in range (1, i+1):\\n        print(i)\\n\\n\\nfact(5)',\n",
       " 'fact': <function __main__.fact(num)>,\n",
       " '_i3': 'def fact(num):\\n    res =  1\\n    for i in range (1, i+1):\\n        print(i)\\n\\n\\nfact(5)',\n",
       " '_i4': 'def fact(num):\\n    res =  1\\n    for i in range (1, num+1):\\n        print(i)\\n\\n\\nfact(5)',\n",
       " '_i5': 'def fact(num):\\n    res =  1\\n    for i in range (1, num+1):\\n        print(i)\\n        res = res*i\\n        # res *= i\\n\\n\\nfact(5)',\n",
       " '_i6': 'def fact(num):\\n    res =  1\\n    for i in range (1, num+1):\\n        print(i)\\n        res = res*i\\n        # res *= i\\n\\n\\nfact(5)',\n",
       " '_i7': 'def fact(num):\\n    res =  1\\n    for i in range (1, num+1):\\n        # print(i)\\n        res = res*i\\n        # res *= i\\n    return res\\n\\n\\n\\nfact(5)',\n",
       " '_7': 120,\n",
       " '_i8': 'def fact(num):\\n    if isinstance(num, int) and num>0 or num==0:\\n        res =  1\\n        for i in range (1, num+1):\\n            # print(i)\\n            res = res*i\\n            # res *= i\\n        return res\\n    else:\\n        res = None\\n\\n\\n\\nfact(5)',\n",
       " '_8': 120,\n",
       " '_i9': 'def fact(num):\\n    if isinstance(num, int) and num>0 or num==0:\\n        res =  1\\n        for i in range (1, num+1):\\n            # print(i)\\n            res = res*i\\n            # res *= i\\n        return res\\n    else:\\n        res = None\\n\\n\\n\\nfact(-5)',\n",
       " '_i10': 'def fact(num):\\n    if isinstance(num, int) and num>0 or num==0:\\n        res =  1\\n        for i in range (1, num+1):\\n            # print(i)\\n            res = res*i\\n            # res *= i\\n        return res\\n    else:\\n        res = None\\n\\n\\n\\nfact(-5)',\n",
       " '_i11': 'def fact(num):\\n    if isinstance(num, int) and num>0 or num==0:\\n        res =  1\\n        for i in range (1, num+1):\\n            # print(i)\\n            res = res*i\\n            # res *= i\\n        return res\\n    else:\\n        res = None\\n\\n\\n\\nfact(3.2))',\n",
       " '_i12': 'def fact(num):\\n    if isinstance(num, int) and num>0 or num==0:\\n        res =  1\\n        for i in range (1, num+1):\\n            # print(i)\\n            res = res*i\\n            # res *= i\\n        return res\\n    else:\\n        res = None\\n\\n\\n\\nfact(3.2)',\n",
       " '_i13': 'def fact(num):\\n    if isinstance(num, int) and num>0 or num==0:\\n        res =  1\\n        for i in range (1, num+1):\\n            # print(i)\\n            res = res*i\\n            # res *= i\\n        return res\\n    else:\\n        res = None\\n        print(type(res))\\n\\n\\n\\nfact(3.2)',\n",
       " '_i14': '#fx factorial of number, only 0 or positive integer, else the fx returns None\\ndef fact(num):\\n    if isinstance(num, int) and num>0 or num==0:\\n        res =  1\\n        for i in range (1, num+1):\\n            res = res*i # res *= i\\n        return res\\n    else:\\n        res = None\\n        print(type(res))\\n\\n\\n\\nfact(3.2)',\n",
       " '_i15': '#fx factorial of number, only 0 or positive integer, else the fx returns None\\ndef fact(num):\\n    if isinstance(num, int) and num>0 or num==0:\\n        res =  1\\n        for i in range (1, num+1):\\n            res = res*i # res *= i\\n        return res\\n    else:\\n        res = None\\n        print(type(res))\\n\\n\\n\\nfact(3.2)\\nnumber = 5\\nresult = Answer.factorial(number)',\n",
       " 'number': 10,\n",
       " '_i16': '#fx factorial of number, only 0 or positive integer, else the fx returns None\\ndef fact(num):\\n    if isinstance(num, int) and num>0 or num==0:\\n        res =  1\\n        for i in range (1, num+1):\\n            res = res*i # res *= i\\n        return res\\n    else:\\n        res = None\\n        print(type(res))\\n\\n\\n\\nfact(3.2)',\n",
       " '_i17': 'def fact1(num):\\n    if num < 0 or isinstance(num, int)==False:\\n        return None\\n    else:\\n        i = 1\\n        res = 0\\n        while i <= num:\\n            print(i)\\n            res = num * i\\n            print(res)\\n\\nfact1(3.5)',\n",
       " 'fact1': <function __main__.fact1(num)>,\n",
       " '_i18': 'def fact1(num):\\n    if num < 0 or isinstance(num, int)==False:\\n        return None\\n    else:\\n        i = 1\\n        res = 0\\n        while i <= num:\\n            print(i)\\n            res = num * i\\n            print(res)\\n\\nfact1(3)',\n",
       " '_i19': 'def fact1(num):\\n    if num < 0 or isinstance(num, int)==False:\\n        return None\\n    else:\\n        i = 1\\n        res = 1\\n        while i <= num:\\n            print(i)\\n            res = res * i\\n            print(res)\\n\\nfact1(3)',\n",
       " '_i20': 'def fact1(num):\\n    if num < 0 or isinstance(num, int)==False:\\n        return None\\n    else:\\n        i = 1\\n        res = 1\\n        while i <= num:\\n            print(i)\\n            res = res * i\\n            print(res)\\n            i += 1\\n\\nfact1(3)',\n",
       " '_i21': 'def fact1(num):\\n    if num < 0 or isinstance(num, int)==False:\\n        return None\\n    else:\\n        i = 1\\n        res = 1\\n        while i <= num:\\n            res = res * i\\n            print(res)\\n            i += 1\\n\\nfact1(3)',\n",
       " '_i22': 'def fact1(num):\\n    if num < 0 or isinstance(num, int)==False:\\n        return None\\n    else:\\n        i = 1\\n        res = 1\\n        while i <= num:\\n            res = res * i\\n            i += 1\\n\\nfact1(5)',\n",
       " '_i23': \"class Dog:\\n    def __init__(self, name):\\n        self.name = name\\n        self.legs = 4\\n\\n    def speak(self):\\n        print(self.name + ' says: Bark')\\n\\n\\ndog = Dog('Rover')\\ndog1 = Dog('Fluffy')\\ndog1.speak()\\n\\ntype(dog)\",\n",
       " 'Dog': __main__.Dog,\n",
       " 'dog': <__main__.Dog at 0x1bc2fcfb0e0>,\n",
       " 'dog1': <__main__.Dog at 0x1bc304f1810>,\n",
       " '_23': __main__.Dog,\n",
       " '_i24': \"class Dog:\\n    def __init__(self, name):\\n        self.name = name\\n        self.legs = 4\\n\\n    def speak(self):\\n        print(self.name + ' says: Bark')\\n\\n\\ndog = Dog('Rover')\\ndog1 = Dog('Fluffy')\\ndog1.speak()\\n\\ntype(Dog('Rover'))\",\n",
       " '_24': __main__.Dog,\n",
       " '_i25': '456 % 10',\n",
       " '_25': 6,\n",
       " '_i26': '456 % 10\\n456//10',\n",
       " '_26': 45,\n",
       " '_i27': 'a = [1,2,3,4]\\nwhile True:\\n    print(a[0])',\n",
       " 'a': [1, 2, 3, 4],\n",
       " '_i28': 'from decimal import Decimal, getcontext\\n\\ngetcontext()',\n",
       " 'Decimal': decimal.Decimal,\n",
       " 'getcontext': <function _decimal.getcontext()>,\n",
       " '_28': Context(prec=28, rounding=ROUND_HALF_EVEN, Emin=-999999, Emax=999999, capitals=1, clamp=0, flags=[Inexact, FloatOperation, Rounded], traps=[InvalidOperation, DivisionByZero, Overflow]),\n",
       " '_i29': 'from decimal import Decimal, getcontext\\n\\ngetcontext()',\n",
       " '_29': Context(prec=28, rounding=ROUND_HALF_EVEN, Emin=-999999, Emax=999999, capitals=1, clamp=0, flags=[Inexact, FloatOperation, Rounded], traps=[InvalidOperation, DivisionByZero, Overflow]),\n",
       " '_i30': '3.12 - 2.11',\n",
       " '_30': 1.0100000000000002,\n",
       " '_i31': 'float_imprec = 3.12 - 2.11\\n\\ndecim_prec = Decimal(3.12) - Decimal(2.11)\\n\\ndecim_prec',\n",
       " 'float_imprec': 1.0100000000000002,\n",
       " 'decim_prec': Decimal('1.010000000000000230926389122'),\n",
       " '_31': Decimal('1.010000000000000230926389122'),\n",
       " '_i32': 'float_imprec = 3.12 - 2.11\\n\\ndecim_prec = Decimal(3.12) - Decimal(2.11)\\n\\nfloat_imprec\\n# decim_prec',\n",
       " '_32': 1.0100000000000002,\n",
       " '_i33': 'float_imprec = 3.12 - 2.11\\n\\ndecim_prec = Decimal(3.12) - Decimal(2.11)\\n\\nfloat_imprec\\ndecim_prec',\n",
       " '_33': Decimal('1.010000000000000230926389122'),\n",
       " '_i34': 'float_imprec = 3.12 - 2.11\\n\\ndecim_prec = Decimal(3.12) - Decimal(2.11)\\n\\nfloat_imprec\\n# decim_prec',\n",
       " '_34': 1.0100000000000002,\n",
       " '_i35': '1.5-1.4',\n",
       " '_35': 0.10000000000000009,\n",
       " '_i36': 'Decimal(1.5)-Decimal(1.4)',\n",
       " '_36': Decimal('0.1000000000000000888178419700'),\n",
       " '_i37': 'Decimal(1.5 - 1.4)',\n",
       " '_37': Decimal('0.100000000000000088817841970012523233890533447265625'),\n",
       " '_i38': '1.5-1.4',\n",
       " '_38': 0.10000000000000009,\n",
       " '_i39': 'print(f\"float ouput 1.5-1.4 is: {1.5-1.4}\")',\n",
       " '_i40': 'print(f\"float ouput 1.5-1.4 seems not correct: {1.5-1.4}\")\\nprint(f\"correct rounded ouput round(1.5-1.4, 3) is: {round(1.5-1.4, 3)}\")',\n",
       " '_i41': \"bool('')\\nbool(0)\\nbool(None)\",\n",
       " '_41': False,\n",
       " '_i42': \"# output 'False'\\nbool('')\\nbool(0)\\nbool(None)\\nbool([])\\nbool[{}]\",\n",
       " '_i43': \"# output 'False'\\nbool('')\\nbool(0)\\nbool('None')\\nbool([])\\nbool[{}]\",\n",
       " '_i44': \"# output 'False'\\nbool('')\\nbool(0)\\nbool('None')\\nbool([])\\nbool({})\",\n",
       " '_44': False,\n",
       " '_i45': \"# output 'False'\\nbool('')\\nbool(0)\\nbool('None')\\n# bool([])\\n# bool({})\",\n",
       " '_45': True,\n",
       " '_i46': \"# output 'False'\\nbool('')\\nbool(0)\\nbool()\\n# bool([])\\n# bool({})\",\n",
       " '_46': False,\n",
       " '_i47': \"ombr = True\\nschWet = False\\n\\nif ombr or schWet:\\n    print('go!')\\nelse:\\n    print('stay')\",\n",
       " 'ombr': False,\n",
       " 'schWet': True,\n",
       " '_i48': \"ombr = False\\nschWet = False\\n\\nif ombr or schWet:\\n    print('go!')\\nelse:\\n    print('stay')\",\n",
       " '_i49': \"ombr = False\\nschWet = True\\n\\nif ombr or schWet:\\n    print('go!')\\nelse:\\n    print('stay')\",\n",
       " '_i50': \"'my number is'+str(55)\",\n",
       " '_50': 'my number is55',\n",
       " '_i51': \"'my age is '+str(55)\",\n",
       " '_51': 'my age is 55',\n",
       " '_i52': \"'my age is '+str(55)\\nf'my age is {50+5}'\",\n",
       " '_52': 'my age is 55',\n",
       " '_i53': \"'my age is '+str(55)\\nf'my age is {50+5}'\\n\\nmanyLine = ''' MULTI LINE STRING untils \\\\'\\\\'\\\\'\\nI am still in the string\\nstill in the string \\n'''\",\n",
       " 'manyLine': \"\\nMULTI LINE STRING untils '''\\nI am still in the string\\nstill in the string \\n\",\n",
       " '_i54': \"'my age is '+str(55)\\nf'my age is {50+5}'\\n\\nmanyLine = ''' MULTI LINE STRING untils \\\\'\\\\'\\\\'\\nI am still in the string\\nstill in the string \\n'''\\nmanyLine\",\n",
       " '_54': \" MULTI LINE STRING untils '''\\nI am still in the string\\nstill in the string \\n\",\n",
       " '_i55': \"'my age is '+str(55)\\nf'my age is {50+5}'\\n\\nmanyLine = ''' MULTI LINE STRING untils \\\\'\\\\'\\\\'\\nI am still in the string\\nstill in the string \\n'''\\nprint(manyLine)\",\n",
       " '_i56': \"'my age is '+str(55)\\nf'my age is {50+5}'\\n\\nmanyLine = '''\\nMULTI LINE STRING untils \\\\'\\\\'\\\\'\\nI am still in the string\\nstill in the string \\n'''\\nprint(manyLine)\",\n",
       " '_i57': 'byte(4)',\n",
       " '_i58': 'bytes(4)',\n",
       " '_58': b'\\x00\\x00\\x00\\x00',\n",
       " '_i59': \"int('101',2)\",\n",
       " '_59': 5,\n",
       " '_i60': \"int('101',2)\\nbool(-1) == 1\",\n",
       " '_60': True,\n",
       " '_i61': \"int('101',2)\\nbool(-1) == 1\\ntrue == 1\",\n",
       " '_i62': \"int('101',2)\\nbool(-1) == 1\\nTrue == 1\",\n",
       " '_62': True,\n",
       " '_i63': \"int('101',2)\\nbool(-1) == 1\\nbool(-1)\",\n",
       " '_63': True,\n",
       " '_i64': '#fx to convert hexnumbers to decimal numbers\\nhexNumbers = {\\n    \\'0\\': 0, \\'1\\': 1, \\'2\\': 2, \\'3\\': 3, \\'4\\': 4, \\'5\\': 5, \\'6\\': 6, \\'7\\': 7, \\'8\\': 8, \\'9\\': 9,\\n    \\'A\\': 10, \\'B\\': 11, \\'C\\': 12, \\'D\\': 13, \\'E\\': 14, \\'F\\': 15\\n}\\n\\ndef conv_dec(num):\\n    for char in num:\\n        if char not in hexNumbers:\\n            print(\"error\")\\n            return(None)\\n    conv = 0\\n    exp = len(num)-1\\n    for char in num:\\n        conv = conv + (num[char] * (16**exp))\\n        exp = exp - 1\\n    return conv\\n\\nconv_dec(4)',\n",
       " 'hexNumbers': {'0': 0,\n",
       "  '1': 1,\n",
       "  '2': 2,\n",
       "  '3': 3,\n",
       "  '4': 4,\n",
       "  '5': 5,\n",
       "  '6': 6,\n",
       "  '7': 7,\n",
       "  '8': 8,\n",
       "  '9': 9,\n",
       "  'A': 10,\n",
       "  'B': 11,\n",
       "  'C': 12,\n",
       "  'D': 13,\n",
       "  'E': 14,\n",
       "  'F': 15},\n",
       " 'conv_dec': <function __main__.conv_dec(num)>,\n",
       " '_i65': '#fx to convert hexnumbers to decimal numbers\\nhexNumbers = {\\n    \\'0\\': 0, \\'1\\': 1, \\'2\\': 2, \\'3\\': 3, \\'4\\': 4, \\'5\\': 5, \\'6\\': 6, \\'7\\': 7, \\'8\\': 8, \\'9\\': 9,\\n    \\'A\\': 10, \\'B\\': 11, \\'C\\': 12, \\'D\\': 13, \\'E\\': 14, \\'F\\': 15\\n}\\n\\ndef conv_dec(num):\\n    for char in num:\\n        if char not in hexNumbers:\\n            print(\"error\")\\n            return(None)\\n    conv = 0\\n    exp = len(num)-1\\n    for char in num:\\n        conv = conv + (num[char] * (16**exp))\\n        exp = exp - 1\\n    return conv\\n\\nconv_dec(\\'A23B\\')',\n",
       " '_i66': '#fx to convert hexnumbers to decimal numbers\\nhexNumbers = {\\n    \\'0\\': 0, \\'1\\': 1, \\'2\\': 2, \\'3\\': 3, \\'4\\': 4, \\'5\\': 5, \\'6\\': 6, \\'7\\': 7, \\'8\\': 8, \\'9\\': 9,\\n    \\'A\\': 10, \\'B\\': 11, \\'C\\': 12, \\'D\\': 13, \\'E\\': 14, \\'F\\': 15\\n}\\n\\ndef conv_dec(num):\\n    for char in num:\\n        if char not in hexNumbers:\\n            print(\"error\")\\n            return(None)\\n    conv = 0\\n    exp = len(num)-1\\n    for char in num:\\n        conv = conv + (hexNumbers[char] * (16**exp))\\n        exp = exp - 1\\n    return conv\\n\\nconv_dec(\\'A23B\\')',\n",
       " '_66': 41531,\n",
       " '_i67': '11+(3*16)+(2*16**2)+(10*16**3)',\n",
       " '_67': 41531,\n",
       " '_i68': 'n= 5\\nn % 3',\n",
       " 'n': 7,\n",
       " '_68': 2,\n",
       " '_i69': 'n = 5\\nn % 3',\n",
       " '_69': 2,\n",
       " '_i70': 'n // 3',\n",
       " '_70': 1,\n",
       " '_i71': \"n = 5\\n'fizz' if n % 3 == 0 else 'buzz' if n % 5 == 0 else 'n'\",\n",
       " '_71': 'buzz',\n",
       " '_i72': \"n = 7\\n'fizz' if n % 3 == 0 else 'buzz' if n % 5 == 0 else 'n'\",\n",
       " '_72': 'n',\n",
       " '_i73': \"n = 7\\n'fizz' if n % 3 == 0 else 'buzz' if n % 5 == 0 else n\",\n",
       " '_73': 7,\n",
       " '_i74': \"['fizz' if n%3==0 else 'buzz' if n%5==0 else n for n in range(1, 11)]\",\n",
       " '_74': [1, 2, 'fizz', 4, 'buzz', 'fizz', 7, 8, 'fizz', 'buzz'],\n",
       " '_i75': 'from datetime import datetime\\ndatetime.now()',\n",
       " 'datetime': datetime.datetime,\n",
       " '_75': datetime.datetime(2025, 8, 13, 6, 55, 27, 413464),\n",
       " '_i76': 'datetime.now().second +2',\n",
       " '_76': 48,\n",
       " '_i77': '#2 sec in the future\\n(datetime.now().second +2) %60',\n",
       " '_77': 58,\n",
       " '_i78': '#2 sec in the future\\n(datetime.now().second +2) %60',\n",
       " '_78': 5,\n",
       " '_i79': \"#2 sec in the future\\nwait_until = (datetime.now().second +2) %60\\n\\nwhile datetime.now().second != wait_until:\\n    pass\\nprint(f'we are at {wait_until} seconds')\",\n",
       " 'wait_until': 53,\n",
       " '_i80': \"#2 sec in the future\\nwait_until = (datetime.now().second +2) %60\\n\\nwhile datetime.now().second != wait_until:\\n    pass\\nprint(f'we are at {wait_until} seconds')\",\n",
       " '_i81': \"while True:\\n    if datetime.now() == wait_until:\\n        print(f'we are at {wait_until} seconds')\\n        break\",\n",
       " '_i82': \"#2 sec in the future\\nwait_until = (datetime.now().second +2) %60\\n\\nwhile True:\\n    if datetime.now() == wait_until:\\n        print(f'we are at {wait_until} seconds')\\n        break\",\n",
       " '_i83': \"#2 sec in the future\\nwait_until = (datetime.now().second +2) %60\\n\\nwhile True:\\n    if datetime.now().seconds == wait_until:\\n        print(f'we are at {wait_until} seconds')\\n        break\",\n",
       " '_i84': \"#2 sec in the future\\nwait_until = (datetime.now().second +2) %60\\n\\nwhile True:\\n    if datetime.now().seconds == wait_until:\\n        print(f'we are at {wait_until} seconds')\\n        break\",\n",
       " '_i85': \"#2 sec in the future\\nwait_until = (datetime.now().second +2) %60\\n\\nwhile True:\\n    if datetime.now().second == wait_until:\\n        print(f'we are at {wait_until} seconds')\\n        break\",\n",
       " '_i86': 'from datetime import datetime\\nimport time\\n\\nprint(f\"Current time: {datetime.now().time()}\")\\n\\n# Wait for 2 seconds\\ntime.sleep(2)\\n\\nprint(f\"Now it\\'s: {datetime.now().time()}\")',\n",
       " 'time': <module 'time' (built-in)>,\n",
       " '_i87': 'from datetime import datetime\\nimport time\\n\\nprint(f\"Current time: {datetime.now().time()}\")\\n\\n# Wait for 5 seconds\\ntime.sleep(5)\\n\\nprint(f\"Now it\\'s: {datetime.now().time()}\")',\n",
       " '_i88': \"#2 sec in the future\\nwait_until = (datetime.now().second +2) %60\\n\\nwhile True:\\n    if datetime.now().second < wait_until:\\n        continue\\n    break\\nprint(f'we are at {wait_until} seconds')\",\n",
       " '_i89': \"#2 sec in the future\\nwait_until = (datetime.now().second +2) %60\\n\\nwhile True:\\n    if datetime.now().second < wait_until:\\n        continue\\n    break\\nprint(f'we are at {wait_until} seconds')\",\n",
       " '_i90': \"#2 sec in the future\\nwait_until = (datetime.now().second +2) %60\\n\\nwhile True:\\n    if datetime.now().second < wait_until:\\n        continue\\n    break\\nprint(f'we are at {wait_until} seconds')\",\n",
       " '_i91': \"lkpAnimal = {\\n    'a' : ['aardwark', 'antelope'],\\n    'b' : ['bear'],\\n    'c' : ['cat'],\\n    'd' : ['dog']\\n}\",\n",
       " 'lkpAnimal': {'a': ['aardwark', 'antelope'],\n",
       "  'b': ['bear'],\n",
       "  'c': ['cat'],\n",
       "  'd': ['dog']},\n",
       " '_i92': \"lkpAnimal = {\\n    'a' : ['aardwark', 'antelope'],\\n    'b' : ['bear'],\\n    'c' : ['cat'],\\n    'd' : ['dog']\\n}\\n\\nfor letter, animals in lkpAnimal.items():\\n    pass\",\n",
       " 'letter': 'a',\n",
       " 'animals': ['aardwark', 'antelope'],\n",
       " '_i93': \"for letter, animals in lkpAnimal.items():\\n    if len(animals)>1:\\n        continue\\n    print(f'only one animal with letter {letter}: {animails}')\",\n",
       " '_i94': \"for letter, animals in lkpAnimal.items():\\n    if len(animals)>1:\\n        continue\\n    print(f'only one animal with letter {letter}: {animals}')\",\n",
       " '_i95': \"for letter, animals in lkpAnimal.items():\\n    if len(animals)>1:\\n        print(f'found {len(animals)}: {animals}')\\n        break\\n    print(f'only one animal with letter {letter}: {animals}')\",\n",
       " '_i96': \"# all primes between 2 and 100\\nfor num in range (2, 100):\\n    for factor in range (2, num**0.5) +1):\\n        if num % factor == 0:\\n            break #not prime\\n    else:\\n        print(f'{num} is prime!')\",\n",
       " '_i97': \"# all primes between 2 and 100\\nfor num in range (2, 100):\\n    for factor in range (2, int(num**0.5) +1):\\n        if num % factor == 0:\\n            break #not prime\\n    else:\\n        print(f'{num} is prime!')\",\n",
       " 'num': 99,\n",
       " 'factor': 3,\n",
       " '_i98': \"# all primes between 2 and 100 optimized\\n'''\\n->N IS PRIME IF it is not divisible by any number <= √N bcs\\nand knowing the prime numbers <= √N, we can only check those as factors, not all the numbers <= √N\\n'''\\nprimes = []\\nfor num in range (2, 100):\\n    for factor in range (2, int(num**0.5) +1):\\n        if num % factor == 0:\\n            break #not prime\\n    else:\\n        print(f'{num} is prime!')\\n        primes.append(num)\\n\\nprimes\",\n",
       " 'primes': [2,\n",
       "  3,\n",
       "  5,\n",
       "  7,\n",
       "  11,\n",
       "  13,\n",
       "  17,\n",
       "  19,\n",
       "  23,\n",
       "  29,\n",
       "  31,\n",
       "  37,\n",
       "  41,\n",
       "  43,\n",
       "  47,\n",
       "  53,\n",
       "  59,\n",
       "  61,\n",
       "  67,\n",
       "  71,\n",
       "  73,\n",
       "  79,\n",
       "  83,\n",
       "  89,\n",
       "  97],\n",
       " '_98': [2,\n",
       "  3,\n",
       "  5,\n",
       "  7,\n",
       "  11,\n",
       "  13,\n",
       "  17,\n",
       "  19,\n",
       "  23,\n",
       "  29,\n",
       "  31,\n",
       "  37,\n",
       "  41,\n",
       "  43,\n",
       "  47,\n",
       "  53,\n",
       "  59,\n",
       "  61,\n",
       "  67,\n",
       "  71,\n",
       "  73,\n",
       "  79,\n",
       "  83,\n",
       "  89,\n",
       "  97],\n",
       " '_i99': \"# all primes between 2 and 100 optimized\\n'''\\n->N IS PRIME IF it is not divisible by any number <= √N bcs\\nand knowing the prime numbers <= √N, we can only check those as factors, not all the numbers <= √N\\n'''\\nprimes = []\\nfor num in range (2, 100):\\n    for factor in range (2, int(num**0.5) +1):\\n        if num % factor == 0:\\n            break #not prime\\n    else:\\n        # print(f'{num} is prime!')\\n        primes.append(num)\\n\\nprimes\",\n",
       " '_99': [2,\n",
       "  3,\n",
       "  5,\n",
       "  7,\n",
       "  11,\n",
       "  13,\n",
       "  17,\n",
       "  19,\n",
       "  23,\n",
       "  29,\n",
       "  31,\n",
       "  37,\n",
       "  41,\n",
       "  43,\n",
       "  47,\n",
       "  53,\n",
       "  59,\n",
       "  61,\n",
       "  67,\n",
       "  71,\n",
       "  73,\n",
       "  79,\n",
       "  83,\n",
       "  89,\n",
       "  97],\n",
       " '_i100': \"# all primes between 2 and 100 optimized\\n'''\\n->N IS PRIME IF it is not divisible by any number <= √N bcs\\nand knowing the prime numbers <= √N, we can only check those as factors, not all the numbers <= √N\\n'''\\nprimes = []\\nfor num in range (2, 100):\\n    for factor in range (2, int(num**0.5) +1):\\n        if num % factor == 0:\\n            break #not prime\\n    else:\\n        # print(f'{num} is prime!')\\n        primes.append(num)\\n\\nprimes\\n\\ndef allPrimesUpTo(num):\\n    prime_factors = [i for i in primes if i <= int(num**0.5) +1]\\n    for factor in prime_factors:\\n        if num % factor == 0:\\n            break #not prime\\n    else:\\n        print(f'{num} is prime!')\\n\\nallPrimesUpTo(15)\",\n",
       " 'allPrimesUpTo': <function __main__.allPrimesUpTo(num)>,\n",
       " '_i101': \"# all primes between 2 and 100 optimized\\n'''\\n->N IS PRIME IF it is not divisible by any number <= √N bcs\\nand knowing the prime numbers <= √N, we can only check those as factors, not all the numbers <= √N\\n'''\\nprimes = []\\nfor num in range (2, 100):\\n    for factor in range (2, int(num**0.5) +1):\\n        if num % factor == 0:\\n            break #not prime\\n    else:\\n        # print(f'{num} is prime!')\\n        primes.append(num)\\nprimes\\n\\ndef allPrimesUpTo(num):\\n    prime_factors = [i for i in primes if i <= int(num**0.5) +1]\\n    for factor in prime_factors:\\n        if num % factor == 0:\\n            print(f'{num} IS NOT prime!')\\n            break \\n    else:\\n        print(f'{num} is prime!')\\n\\nallPrimesUpTo(15)\",\n",
       " '_i102': \"# all primes between 2 and 100 optimized\\n'''\\n->N IS PRIME IF it is not divisible by any number <= √N bcs\\nand knowing the prime numbers <= √N, we can only check those as factors, not all the numbers <= √N\\n'''\\nprimes = []\\nfor num in range (2, 100):\\n    for factor in range (2, int(num**0.5) +1):\\n        if num % factor == 0:\\n            break #not prime\\n    else:\\n        # print(f'{num} is prime!')\\n        primes.append(num)\\nprimes\\n\\ndef allPrimesUpTo(num):\\n    prime_factors = [i for i in primes if i <= int(num**0.5) +1]\\n    for factor in prime_factors:\\n        if num % factor == 0:\\n            print(f'{num} is NOT prime!')\\n            break \\n    else:\\n        print(f'{num} is prime!')\\n\\nallPrimesUpTo(15)\",\n",
       " '_i103': \"# all primes between 2 and 100 optimized\\n'''\\n->N IS PRIME IF it is not divisible by any number <= √N bcs\\nand knowing the prime numbers <= √N, we can only check those as factors, not all the numbers <= √N\\n'''\\nprimes = []\\nfor num in range (2, 100):\\n    for factor in range (2, int(num**0.5) +1):\\n        if num % factor == 0:\\n            break #not prime\\n    else:\\n        # print(f'{num} is prime!')\\n        primes.append(num)\\nprimes\\n\\ndef allPrimesUpTo(num):\\n    prime_factors = [i for i in primes if i <= int(num**0.5) +1]\\n    for factor in prime_factors:\\n        if num % factor == 0:\\n            print(f'{num} is NOT prime!')\\n            break \\n    else:\\n        print(f'{num} is prime!')\\n\\nallPrimesUpTo(27)\",\n",
       " '_i104': \"# all primes between 2 and 100 optimized\\n'''\\n->N IS PRIME IF it is not divisible by any number <= √N bcs\\nand knowing the prime numbers <= √N, we can only check those as factors, not all the numbers <= √N\\n'''\\nprimes = []\\nfor num in range (2, 100):\\n    for factor in range (2, int(num**0.5) +1):\\n        if num % factor == 0:\\n            break #not prime\\n    else:\\n        # print(f'{num} is prime!')\\n        primes.append(num)\\nprimes\\n\\ndef allPrimesUpTo(num):\\n    prime_factors = [i for i in primes if i <= int(num**0.5) +1]\\n    for factor in prime_factors:\\n        if num % factor == 0:\\n            print(f'{num} is NOT prime!')\\n            break \\n    else:\\n        print(f'{num} is prime!')\\n\\nallPrimesUpTo(51)\",\n",
       " '_i105': \"# all primes between 2 and 100 optimized\\n'''\\n->N IS PRIME IF it is not divisible by any number <= √N bcs\\nand knowing the prime numbers <= √N, we can only check those as factors, not all the numbers <= √N\\n'''\\nprimes = []\\nfor num in range (2, 100):\\n    for factor in range (2, int(num**0.5) +1):\\n        if num % factor == 0:\\n            break #not prime\\n    else:\\n        # print(f'{num} is prime!')\\n        primes.append(num)\\nprimes\\n\\ndef allPrimesUpTo(num):\\n    prime_factors = [i for i in primes if i <= int(num**0.5) +1]\\n    for factor in prime_factors:\\n        if num % factor == 0:\\n            print(f'{num} is NOT prime!')\\n            break \\n    else:\\n        print(f'{num} is prime!')\\n\\nallPrimesUpTo(79)\",\n",
       " '_i106': \"# all primes between 2 and 100 optimized\\n'''\\n->N IS PRIME IF it is not divisible by any number <= √N bcs\\nand knowing the prime numbers <= √N, we can only check those as factors, not all the numbers <= √N\\n'''\\nprimes = []\\nfor num in range (2, 100):\\n    for factor in range (2, int(num**0.5) +1):\\n        if num % factor == 0:\\n            break #not prime\\n    else:\\n        # print(f'{num} is prime!')\\n        primes.append(num)\\nprimes\\n\\ndef allPrimesUpTo(num):\\n    prime_factors = [i for i in primes if i <= int(num**0.5) +1]\\n    for factor in prime_factors:\\n        if num % factor == 0:\\n            print(f'{num} is NOT prime!')\\n            break \\n    else:\\n        print(f'{num} is prime!')\\n        return (prime_factors)\\n\\n\\nli = allPrimesUpTo(79)\\nli\",\n",
       " 'li': [2,\n",
       "  3,\n",
       "  5,\n",
       "  7,\n",
       "  11,\n",
       "  13,\n",
       "  17,\n",
       "  19,\n",
       "  23,\n",
       "  29,\n",
       "  31,\n",
       "  37,\n",
       "  41,\n",
       "  43,\n",
       "  47,\n",
       "  53,\n",
       "  59,\n",
       "  61,\n",
       "  67,\n",
       "  71,\n",
       "  73,\n",
       "  79,\n",
       "  83,\n",
       "  89,\n",
       "  97],\n",
       " '_106': [2, 3, 5, 7],\n",
       " '_i107': \"# all primes between 2 and 100 optimized\\n'''\\n->N IS PRIME IF it is not divisible by any number <= √N bcs\\nand knowing the prime numbers <= √N, we can only check those as factors, not all the numbers <= √N\\n'''\\nprimes = []\\nfor num in range (2, 100):\\n    for factor in range (2, int(num**0.5) +1):\\n        if num % factor == 0:\\n            break #not prime\\n    else:\\n        # print(f'{num} is prime!')\\n        primes.append(num)\\nprimes\\n\\ndef allPrimesUpTo(num):\\n    prime_factors = [i for i in primes if i <= int(num**0.5) +1]\\n    for factor in prime_factors:\\n        if num % factor == 0:\\n            print(f'{num} is NOT prime!')\\n            break \\n    else:\\n        print(f'{num} is prime!')\\n        return (prime_factors)\\n\\n\\nli = allPrimesUpTo(10)\\nli\",\n",
       " '_i108': \"# all primes between 2 and 100 optimized\\n'''\\n->N IS PRIME IF it is not divisible by any number <= √N bcs\\nand knowing the prime numbers <= √N, we can only check those as factors, not all the numbers <= √N\\n'''\\nprimes = []\\nfor num in range (2, 100):\\n    for factor in range (2, int(num**0.5) +1):\\n        if num % factor == 0:\\n            break #not prime\\n    else:\\n        # print(f'{num} is prime!')\\n        primes.append(num)\\nprimes\\n\\ndef allPrimesUpTo(num):\\n    prime_factors = [i for i in primes if i <= int(num**0.5) +1]\\n    for factor in prime_factors:\\n        if num % factor == 0:\\n            print(f'{num} is NOT prime!')\\n            break \\n    else:\\n        print(f'{num} is prime!')\\n    return (prime_factors)\\n\\n\\nli = allPrimesUpTo(10)\\nli\",\n",
       " '_108': [2, 3],\n",
       " '_i109': \"# all primes between 2 and 100 optimized\\n'''\\n->N IS PRIME IF it is not divisible by any number <= √N bcs\\nand knowing the prime numbers <= √N, we can only check those as factors, not all the numbers <= √N\\n'''\\nprimes = []\\nfor num in range (2, 100):\\n    for factor in range (2, int(num**0.5) +1):\\n        if num % factor == 0:\\n            break #not prime\\n    else:\\n        # print(f'{num} is prime!')\\n        primes.append(num)\\nprimes\\n\\ndef allPrimesUpTo(num):\\n    factors = [i for i in primes if i <= num]\\n    prime_factors = [i for i in primes if i <= int(num**0.5) +1]\\n    for factor in prime_factors:\\n        if num % factor == 0:\\n            print(f'{num} is NOT prime!')\\n            break \\n    else:\\n        print(f'{num} is prime!')\\n    return (factors)\\n\\n\\nli = allPrimesUpTo(10)\\nli\",\n",
       " '_109': [2, 3, 5, 7],\n",
       " '_i110': \"# all primes between 2 and 100 optimized\\n'''\\n->N IS PRIME IF it is not divisible by any number <= √N bcs\\nand knowing the prime numbers <= √N, we can only check those as factors, not all the numbers <= √N\\n'''\\nprimes = []\\nfor num in range (2, 100):\\n    for factor in range (2, int(num**0.5) +1):\\n        if num % factor == 0:\\n            break #not prime\\n    else:\\n        # print(f'{num} is prime!')\\n        primes.append(num)\\nprimes\\n\\ndef allPrimesUpTo(num):\\n    factors = [i for i in primes if i <= num]\\n    prime_factors = [i for i in primes if i <= int(num**0.5) +1]\\n    for factor in prime_factors:\\n        if num % factor == 0:\\n            print(f'{num} is NOT prime!')\\n            break \\n    else:\\n        print(f'{num} is prime!')\\n    return (factors)\\n\\n\\nli = allPrimesUpTo(200)\\nli\",\n",
       " '_110': [2,\n",
       "  3,\n",
       "  5,\n",
       "  7,\n",
       "  11,\n",
       "  13,\n",
       "  17,\n",
       "  19,\n",
       "  23,\n",
       "  29,\n",
       "  31,\n",
       "  37,\n",
       "  41,\n",
       "  43,\n",
       "  47,\n",
       "  53,\n",
       "  59,\n",
       "  61,\n",
       "  67,\n",
       "  71,\n",
       "  73,\n",
       "  79,\n",
       "  83,\n",
       "  89,\n",
       "  97],\n",
       " '_i111': \"# all primes between 2 and 100 optimized\\n'''\\n->N IS PRIME IF it is not divisible by any number <= √N bcs\\nand knowing the prime numbers <= √N, we can only check those as factors, not all the numbers <= √N\\n'''\\ndef allPrimesUpTo(num):\\n    primes = [2]\\n    for number in range(3, num):\\n        sqrtNum = number**0.5\\n        for factor in primes:\\n            if number % factor == 0:\\n                # Not prime\\n                break\\n            if factor > sqrtNum:\\n                # Prime!\\n                primes.append(number)\\n                break\\n    return(primes)\\n\\n        \",\n",
       " '_i112': \"# all primes between 2 and 100 optimized\\n'''\\n->N IS PRIME IF it is not divisible by any number <= √N bcs\\nand knowing the prime numbers <= √N, we can only check those as factors, not all the numbers <= √N\\n'''\\ndef allPrimesUpTo(num):\\n    primes = [2]\\n    for number in range(3, num):\\n        sqrtNum = number**0.5\\n        for factor in primes:\\n            if number % factor == 0:\\n                # Not prime\\n                break\\n            if factor > sqrtNum:\\n                # Prime!\\n                primes.append(number)\\n                break\\n    return(primes)\\n\\nallPrimesUpTo(100)\\n\\n        \",\n",
       " '_112': [2,\n",
       "  3,\n",
       "  5,\n",
       "  7,\n",
       "  11,\n",
       "  13,\n",
       "  17,\n",
       "  19,\n",
       "  23,\n",
       "  29,\n",
       "  31,\n",
       "  37,\n",
       "  41,\n",
       "  43,\n",
       "  47,\n",
       "  53,\n",
       "  59,\n",
       "  61,\n",
       "  67,\n",
       "  71,\n",
       "  73,\n",
       "  79,\n",
       "  83,\n",
       "  89,\n",
       "  97],\n",
       " '_i113': \"for number in range(1, 100):\\n    if number % 10 == 0:\\n        break\\nelse:\\n    print('Let\\\\'s print something out!')\",\n",
       " '_i114': \"def PerformOp (*args, **kargs):\\n    print(args)\\n    print(kargs)\\n\\n\\nPerformOp(1,2,3,4,5, op= 'sum')\",\n",
       " 'PerformOp': <function __main__.PerformOp(*args, operation='sum')>,\n",
       " '_i115': \"def PerformOp (*args, **kargs):\\n    print(args)\\n    print(kargs)\\n\\n\\nPerformOp(1,2,3,4,5, op = 'sum', mex = 'default mex')\",\n",
       " '_i116': \"import math \\n\\ndef PerformOp (*args, operation='sum'):\\n    if operation == 'sum':\\n        return sum(args)\\n    if operation == 'product'\\n        return math.prod(args)\\n\\nPerformOp(1,2,3,4,5)\",\n",
       " '_i117': \"import math \\n\\ndef PerformOp (*args, operation='sum'):\\n    if operation == 'sum':\\n        return sum(args)\\n    if operation == 'product':\\n        return math.prod(args)\\n\\nPerformOp(1,2,3,4,5)\",\n",
       " 'math': <module 'math' (built-in)>,\n",
       " '_117': 15,\n",
       " '_i118': 'globals()',\n",
       " '_118': {...},\n",
       " '_i119': '# global variables\\nglobals()',\n",
       " '_119': {...},\n",
       " '_i120': '## variables scope',\n",
       " '_i121': 'globals()'}"
      ]
     },
     "execution_count": 121,
     "metadata": {},
     "output_type": "execute_result"
    }
   ],
   "source": [
    "globals()"
   ]
  },
  {
   "cell_type": "code",
   "execution_count": 122,
   "id": "37ffd1c5",
   "metadata": {},
   "outputs": [
    {
     "name": "stdout",
     "output_type": "stream",
     "text": [
      "1\n",
      "Some local data\n",
      "{'varA': 1, 'varB': 2, 'message': 'Some local data'}\n",
      "2\n",
      "Some global data\n",
      "{'varC': 3, 'varB': 4}\n"
     ]
    }
   ],
   "source": [
    "message = 'Some global data'\n",
    "varA = 2\n",
    "def function1(varA, varB):\n",
    "    message = 'Some local data'\n",
    "    print(varA)\n",
    "    print(message)\n",
    "    print(locals())\n",
    "\n",
    "def function2(varC, varB):\n",
    "    print(varA)\n",
    "    print(message)\n",
    "    print(locals())\n",
    "    \n",
    "function1(1, 2)\n",
    "function2(3, 4)"
   ]
  },
  {
   "cell_type": "code",
   "execution_count": 123,
   "id": "ec3d0f62",
   "metadata": {},
   "outputs": [
    {
     "name": "stdout",
     "output_type": "stream",
     "text": [
      "1\n",
      "{'varA': 1, 'varB': 2, 'message': 'Some local data', 'inner_function': <function function1.<locals>.inner_function at 0x000001BC30B354E0>}\n",
      "inner_function local scope: {'varA': 123, 'varB': 456}\n"
     ]
    }
   ],
   "source": [
    "def function1(varA, varB):\n",
    "    message = 'Some local data'\n",
    "    print(varA)\n",
    "    def inner_function(varA, varB):\n",
    "        print(f'inner_function local scope: {locals()}')\n",
    "    \n",
    "    print(locals())\n",
    "    inner_function(123, 456)\n",
    "    \n",
    "\n",
    "function1(1, 2) "
   ]
  },
  {
   "cell_type": "markdown",
   "id": "b6cfc6f8",
   "metadata": {},
   "source": [
    "## Text processing in Python"
   ]
  },
  {
   "cell_type": "code",
   "execution_count": 128,
   "id": "0cce3721",
   "metadata": {},
   "outputs": [],
   "source": [
    "def lowercase(text):\n",
    "    return text.lower()\n",
    "\n",
    "def removePunctuation(text):\n",
    "    punctuations = ['.', '-', ',', '*']\n",
    "    for punctuation in punctuations:\n",
    "        text = text.replace(punctuation, '')\n",
    "    return text\n",
    "\n",
    "def removeNewlines(text):\n",
    "    text = text.replace('\\n', ' ')\n",
    "    return text\n",
    "\n",
    "# only words longer than 3 char\n",
    "def removeShortWords(text):\n",
    "    return ' '.join([word for word in text.split() if len(word) > 3])\n",
    "\n",
    "# only words shorter than 6 char\n",
    "def removeLongWords(text):\n",
    "    return ' '.join([word for word in text.split() if len(word) < 8])"
   ]
  },
  {
   "cell_type": "code",
   "execution_count": 129,
   "id": "1ea69d7e",
   "metadata": {},
   "outputs": [
    {
     "name": "stdout",
     "output_type": "stream",
     "text": [
      "maria ha una blu e delle rosse l'ha il lupetto di 4 anni appena sta sfigata\n"
     ]
    }
   ],
   "source": [
    "text = '''MARIA ha una gonnellina blu e delle scarpine Rosse. \n",
    "L'ha mangiata il lupetto di 4 anni appena.\n",
    "Sta sfigata.\n",
    "'''\n",
    "# apply all functions to text\n",
    "processingFunctions = [lowercase, removePunctuation, removeNewlines, removeLongWords]\n",
    "\n",
    "for func in processingFunctions:\n",
    "    text = func(text)\n",
    "\n",
    "print(text)"
   ]
  },
  {
   "cell_type": "markdown",
   "id": "fec808f8",
   "metadata": {},
   "source": [
    "## LAMBDA functions\n",
    "1 line function, 'return' not needed"
   ]
  },
  {
   "cell_type": "code",
   "execution_count": 132,
   "id": "1c32accd",
   "metadata": {},
   "outputs": [
    {
     "data": {
      "text/plain": [
       "5.0"
      ]
     },
     "execution_count": 132,
     "metadata": {},
     "output_type": "execute_result"
    }
   ],
   "source": [
    "(lambda x: x**(1/2)) (25)"
   ]
  },
  {
   "cell_type": "code",
   "execution_count": null,
   "id": "a2254273",
   "metadata": {},
   "outputs": [
    {
     "data": {
      "text/plain": [
       "[{'dic': 2}, {'dic': 10}, {'dic': 14}, {'dic': 30}]"
      ]
     },
     "execution_count": 136,
     "metadata": {},
     "output_type": "execute_result"
    }
   ],
   "source": [
    "# sorting list of dict would give error, but specifying a sort-kex with lambda function it works\n",
    "listOfDict = [{'dic':2}, {'dic':30}, {'dic':14}, {'dic':10}]\n",
    "sorted(listOfDict, key = lambda x: x['dic'])"
   ]
  },
  {
   "cell_type": "markdown",
   "id": "0e6c699c",
   "metadata": {},
   "source": [
    "### RECURSION\n",
    "**fx to return the triangular number of a number** <br>\n",
    "triangular n = n + n-1 + n-2 + .... + 1 <br>\n",
    "tringular n is n plus all the numbers smaller than n"
   ]
  },
  {
   "cell_type": "code",
   "execution_count": null,
   "id": "c1765c7e",
   "metadata": {},
   "outputs": [
    {
     "data": {
      "text/plain": [
       "10"
      ]
     },
     "execution_count": 147,
     "metadata": {},
     "output_type": "execute_result"
    }
   ],
   "source": [
    "def triangle(num):\n",
    "    if num == 1:\n",
    "        return num\n",
    "    return num + triangle(num - 1)\n",
    "\n",
    "\n",
    "triangle(4) / triangle()"
   ]
  },
  {
   "cell_type": "code",
   "execution_count": null,
   "id": "4a393ecd",
   "metadata": {},
   "outputs": [
    {
     "data": {
      "text/plain": [
       "16"
      ]
     },
     "execution_count": 151,
     "metadata": {},
     "output_type": "execute_result"
    }
   ],
   "source": [
    "# Python code​​​​​​‌‌​‌‌‌‌‌‌​​‌​‌‌​​‌​‌‌​​​‌ below\n",
    "def triangle(num):\n",
    "    if num == 1:\n",
    "        return num\n",
    "    return num + triangle(num - 1)\n",
    "\n",
    "def square_from_traingle(num):\n",
    "    sq = triangle(num) + triangle(num-1)\n",
    "    return(sq)\n",
    "    \n",
    "triangle(4)\n",
    "square_from_traingle(4)\n",
    "    "
   ]
  },
  {
   "cell_type": "markdown",
   "id": "75490e56",
   "metadata": {},
   "source": [
    "## Class\n",
    "attributes in the __init__ module are instance attributes, owned by all the instances of the class <br>\n",
    "attributes above, are static attributes, they belong to the class\n",
    "<br> <br>\n",
    "instance methods blong to the instance of the class, <br>\n",
    "static methods instead belong to the class, self argument should not be passed\n",
    "<br> <br>\n",
    "_Decorators_: @... they belong to the function that follows; they define attribute/info of the function <br>\n",
    "@staticmethod"
   ]
  },
  {
   "cell_type": "code",
   "execution_count": 162,
   "id": "60cb2a21",
   "metadata": {},
   "outputs": [
    {
     "name": "stdout",
     "output_type": "stream",
     "text": [
      "Bruno\n",
      "4\n",
      "3\n",
      "Bruno says: Bark!\n"
     ]
    }
   ],
   "source": [
    "class Dog:\n",
    "    _legs = 4 # static attributes/variables of the class (_ address static var)\n",
    "    def __init__(self, name):\n",
    "        self.name = name\n",
    "\n",
    "    def getLegs(self):\n",
    "        return self._legs\n",
    "    \n",
    "    def speak(self):\n",
    "        print(self.name + ' says: Bark!')\n",
    "\n",
    "\n",
    "myDog = Dog('Bruno')\n",
    "print(myDog.name)\n",
    "print(myDog.getLegs())\n",
    "myDog._legs = 3 #changed the instance var, not the class var\n",
    "print(myDog.getLegs())\n",
    "myDog.speak()"
   ]
  },
  {
   "cell_type": "markdown",
   "id": "91516a1c",
   "metadata": {},
   "source": [
    "### Static - instance methods"
   ]
  },
  {
   "cell_type": "code",
   "execution_count": null,
   "id": "3979c5f1",
   "metadata": {},
   "outputs": [],
   "source": [
    "class WordSet:\n",
    "    def __init__(self):\n",
    "        self.words = set()\n",
    "        \n",
    "    def addText(self, text):\n",
    "        text = WordSet.cleanText(text)\n",
    "        for word in text.split(): # split() parses a string and return a list with the words (space separator))\n",
    "            self.words.add(word)\n",
    "            \n",
    "    def cleanText(text):\n",
    "        # chaining functions\n",
    "        text = text.replace('!', '').replace('.', '').replace(',', '').replace('\\'', '')\n",
    "        return text.lower()\n",
    "    \n",
    "        \n",
    "wordSet = WordSet()\n",
    "\n",
    "wordSet.addText('Hi, I\\'m Ryan! Here is a sentence I want to add!')\n",
    "wordSet.addText('Here is another sentence I want to add.')\n",
    "\n",
    "print(wordSet.words)"
   ]
  },
  {
   "cell_type": "code",
   "execution_count": 154,
   "id": "c72f0d91",
   "metadata": {},
   "outputs": [
    {
     "name": "stdout",
     "output_type": "stream",
     "text": [
      "{'another', 'ryan', 'a', 'hi', 'im', 'here', 'i', 'to', 'add', 'is', 'want', 'sentence'}\n"
     ]
    }
   ],
   "source": [
    "class WordSet:\n",
    "    replacePuncs = ['!', '.', ',', '\\'']\n",
    "    def __init__(self):\n",
    "        self.words = set()\n",
    "        \n",
    "    def addText(self, text):\n",
    "        text = WordSet.cleanText(text)\n",
    "        for word in text.split():\n",
    "            self.words.add(word)\n",
    "            \n",
    "        \n",
    "    def cleanText(text):\n",
    "        # chaining functions\n",
    "        for punc in WordSet.replacePuncs:\n",
    "            text = text.replace(punc, '')\n",
    "        return text.lower()\n",
    "    \n",
    "        \n",
    "wordSet = WordSet()\n",
    "\n",
    "wordSet.addText('Hi, I\\'m Ryan! Here is a sentence I want to add!')\n",
    "wordSet.addText('Here is another sentence I want to add.')\n",
    "\n",
    "print(wordSet.words)"
   ]
  },
  {
   "cell_type": "markdown",
   "id": "65357e73",
   "metadata": {},
   "source": [
    "### Decorator - class\n"
   ]
  },
  {
   "cell_type": "code",
   "execution_count": null,
   "id": "09ddaeb2",
   "metadata": {},
   "outputs": [],
   "source": [
    "class WordSet:\n",
    "    replacePuncs = ['!', '.', ',', '\\'']\n",
    "    def __init__(self):\n",
    "        self.words = set()\n",
    "        \n",
    "    def addText(self, text):\n",
    "        text = self.cleanText(text)\n",
    "        for word in text.split():\n",
    "            self.words.add(word)\n",
    "            \n",
    "    @staticmethod\n",
    "    def cleanText(text):\n",
    "        # chaining functions\n",
    "        for punc in WordSet.replacePuncs:\n",
    "            text = text.replace(punc, '')\n",
    "        return text.lower()\n",
    "    \n",
    "        \n",
    "wordSet = WordSet()\n",
    "\n",
    "wordSet.addText('Hi, I\\'m Ryan! Here is a sentence I want to add!')\n",
    "wordSet.addText('Here is another sentence I want to add.')\n",
    "\n",
    "print(wordSet.words)"
   ]
  },
  {
   "cell_type": "markdown",
   "id": "b260c71c",
   "metadata": {},
   "source": [
    "### Class Inherintance\n",
    "useful when I need a class with the methods of another parent class and just some tweaking"
   ]
  },
  {
   "cell_type": "code",
   "execution_count": null,
   "id": "f688503e",
   "metadata": {},
   "outputs": [
    {
     "name": "stdout",
     "output_type": "stream",
     "text": [
      "Marlin says Yapyap yap!\n",
      "Marlin has n legs: 4\n",
      "vigorous wagging\n",
      "Rover says: Bark!\n",
      "Rover has n legs: 4\n"
     ]
    }
   ],
   "source": [
    "class Chihuhaua(Dog):\n",
    "    def speak(self):\n",
    "        print (f'{self.name} says Yapyap yap!')\n",
    "    \n",
    "    def wagging(self):\n",
    "        print (f'vigorous wagging')\n",
    "\n",
    "\n",
    "dog = Chihuhaua('Marlin')\n",
    "dog.name\n",
    "dog.speak()\n",
    "print(f'{dog.name} has n legs: {dog.getLegs()}')\n",
    "dog.wagging()\n",
    "\n",
    "# instance of parent class\n",
    "myDog = Dog('Rover')\n",
    "myDog.speak()\n",
    "print(f'{myDog.name} has n legs: {myDog.getLegs()}')\n"
   ]
  },
  {
   "cell_type": "markdown",
   "id": "d92b9a21",
   "metadata": {},
   "source": [
    "### Extend built in classes"
   ]
  },
  {
   "cell_type": "code",
   "execution_count": null,
   "id": "7aca3e75",
   "metadata": {},
   "outputs": [
    {
     "data": {
      "text/plain": [
       "[1, 2]"
      ]
     },
     "execution_count": 181,
     "metadata": {},
     "output_type": "execute_result"
    }
   ],
   "source": [
    "class UniqueList(list):\n",
    "    def append(self, item):\n",
    "        if item in self:\n",
    "            return \n",
    "        super().append(item) # super() references the parent class\n",
    "\n",
    "uniqueList = UniqueList()\n",
    "uniqueList.append(1)\n",
    "uniqueList.append(1)\n",
    "uniqueList.append(2)\n",
    "uniqueList"
   ]
  },
  {
   "cell_type": "code",
   "execution_count": null,
   "id": "f0d5ab6e",
   "metadata": {},
   "outputs": [
    {
     "data": {
      "text/plain": [
       "'Unique List'"
      ]
     },
     "execution_count": 182,
     "metadata": {},
     "output_type": "execute_result"
    }
   ],
   "source": [
    "# tweaking the construstor \n",
    "class UniqueList(list):\n",
    "    def __init__(self):\n",
    "        super().__init__() # to not completely overwrite the parent constructor, call it first\n",
    "        self.someProperty = 'Unique List'\n",
    "\n",
    "    def append(self, item):\n",
    "        if item in self:\n",
    "            return \n",
    "        super().append(item) # super() references the parent class\n",
    "\n",
    "uniqueList = UniqueList()\n",
    "uniqueList.append(1)\n",
    "uniqueList.append(1)\n",
    "uniqueList.append(2)\n",
    "uniqueList.someProperty"
   ]
  },
  {
   "cell_type": "code",
   "execution_count": 227,
   "id": "4b04a4e9",
   "metadata": {},
   "outputs": [],
   "source": [
    "# Python code​​​​​​‌‌​‌‌‌‌‌‌​‌​‌​​​‌‌​​​​​​​ below\n",
    "class Shape():\n",
    "\tdef __init__(self, width=5, height=5, printChar='#'):\n",
    "\t\tself.width = width\n",
    "\t\tself.height = height\n",
    "\t\tself.printChar = printChar\n",
    "\n",
    "\tdef printRow(self, i):\n",
    "\t\traise NotImplementedError(\"Will be implemented by children extending this class\")\n",
    "\n",
    "\tdef print(self):\n",
    "\t\tfor i in range(self.height):\n",
    "\t\t\tself.printRow(i)\n",
    "\t\n",
    "\tdef showParentVars(self):\n",
    "\t\tprint(f'width: {self.width}, height: {self.height}, char: {self.printChar}')\n",
    "\n",
    "\n",
    "class Square(Shape):\n",
    "\tdef printRow(self, i):\n",
    "\t\tprint(self.printChar * self.width)"
   ]
  },
  {
   "cell_type": "code",
   "execution_count": 229,
   "id": "676b1286",
   "metadata": {},
   "outputs": [
    {
     "name": "stdout",
     "output_type": "stream",
     "text": [
      "width: 7, height: 7, char: #\n",
      "***\n",
      "***\n",
      "***\n",
      "***\n"
     ]
    }
   ],
   "source": [
    "shape1 = Shape(7, 7)\n",
    "shape1.showParentVars()\n",
    "\n",
    "square1 = Square(3,4,'*')\n",
    "square1.print()\n",
    "\n"
   ]
  },
  {
   "cell_type": "code",
   "execution_count": 242,
   "id": "f4d6d70e",
   "metadata": {},
   "outputs": [
    {
     "name": "stdout",
     "output_type": "stream",
     "text": [
      "     #\n",
      "    ###\n",
      "   #####\n",
      "  #######\n",
      " #########\n",
      "###########\n"
     ]
    }
   ],
   "source": [
    "\n",
    "class Triangle(Shape):\n",
    "    def __init__(self, triangle_type=\"right\", width=5, height=5, printChar='#'):\n",
    "        super().__init__(width=width, height=height, printChar=printChar)\n",
    "        self.triangle_type = triangle_type\n",
    "\n",
    "    def printRow(self, i):\n",
    "        if self.triangle_type == \"right\":\n",
    "            print(self.printChar * (i + 1))\n",
    "        elif self.triangle_type == \"left\":\n",
    "            spaces = self.width - (i + 1)\n",
    "            print(\" \" * spaces + self.printChar * (i + 1))\n",
    "        elif self.triangle_type == \"equilateral\":\n",
    "            spaces = self.height - i - 1\n",
    "            chars = 2 * i + 1\n",
    "            print(\" \" * spaces + self.printChar * chars)\n",
    "        else:\n",
    "            raise ValueError(\"Unknown triangle type: choose 'right', 'left', or 'equilateral'\")\n",
    "\n",
    "\n",
    "# Triangle(triangle_type= \"left\", width=7, height=8, printChar='*').print()\n",
    "Triangle(triangle_type= \"equilateral\", height=6).print()"
   ]
  },
  {
   "cell_type": "code",
   "execution_count": null,
   "id": "72cae084",
   "metadata": {},
   "outputs": [],
   "source": [
    "# official solution\n",
    "class Triangle(Shape):\n",
    "    height = 5\n",
    "    width = 2*height\n",
    "\n",
    "    def printRow(self, i):\n",
    "        triangleWidth = i * 2 +1 #must be odd num of char\n",
    "        padding = int((self.width - triangleWidth)/2)\n",
    "        print(''*padding + self.printChar * triangleWidth)\n"
   ]
  },
  {
   "cell_type": "markdown",
   "id": "e33c0083",
   "metadata": {},
   "source": [
    "## Errors"
   ]
  },
  {
   "cell_type": "markdown",
   "id": "91bfb6c3",
   "metadata": {},
   "source": [
    "### Try / Except"
   ]
  },
  {
   "cell_type": "code",
   "execution_count": 246,
   "id": "46c84884",
   "metadata": {},
   "outputs": [
    {
     "name": "stdout",
     "output_type": "stream",
     "text": [
      "<class 'ZeroDivisionError'>\n"
     ]
    }
   ],
   "source": [
    "# catch exception & return it\n",
    "try:\n",
    "    1/0\n",
    "except Exception as e: # e = instance of the exception raised\n",
    "    print(type(e))\n"
   ]
  },
  {
   "cell_type": "code",
   "execution_count": null,
   "id": "7caf3b4d",
   "metadata": {},
   "outputs": [
    {
     "data": {
      "text/plain": [
       "ZeroDivisionError('division by zero')"
      ]
     },
     "execution_count": 248,
     "metadata": {},
     "output_type": "execute_result"
    }
   ],
   "source": [
    "def causeError():\n",
    "    try:\n",
    "        return 1/0\n",
    "    except Exception as e:\n",
    "        return e\n",
    "    \n",
    "causeError()"
   ]
  },
  {
   "cell_type": "markdown",
   "id": "fa68281d",
   "metadata": {},
   "source": [
    "### Finally & time.sleep()\n",
    "always executed, independently of what happens in try block <br>\n",
    "great to print the execution time of a fx <br><br>\n",
    "time.sleep(n) pauses execution for n sec"
   ]
  },
  {
   "cell_type": "code",
   "execution_count": null,
   "id": "ec02603a",
   "metadata": {},
   "outputs": [
    {
     "name": "stdout",
     "output_type": "stream",
     "text": [
      "execution took: 1.0002901554107666\n"
     ]
    },
    {
     "data": {
      "text/plain": [
       "ZeroDivisionError('division by zero')"
      ]
     },
     "execution_count": 253,
     "metadata": {},
     "output_type": "execute_result"
    }
   ],
   "source": [
    "import time\n",
    "def causeError():\n",
    "    startTime = time.time() # current time in sec\n",
    "    try:\n",
    "        time.sleep(1) #pause execution 1 sec\n",
    "        return 1/0\n",
    "    except Exception as e:\n",
    "        return e\n",
    "    finally:\n",
    "        print(f'execution took: {time.time()-startTime}')\n",
    "    \n",
    "causeError()"
   ]
  },
  {
   "cell_type": "markdown",
   "id": "e21eb111",
   "metadata": {},
   "source": [
    "### Exceptions by type\n",
    "order matters, the first exception encountered is the one reported, so more specific exceptions go first"
   ]
  },
  {
   "cell_type": "code",
   "execution_count": 254,
   "id": "e5a686cc",
   "metadata": {},
   "outputs": [
    {
     "name": "stdout",
     "output_type": "stream",
     "text": [
      "There was a type error!\n"
     ]
    }
   ],
   "source": [
    "def causeError():\n",
    "    try:\n",
    "        return 1 + 'a'\n",
    "\n",
    "    except TypeError:\n",
    "        print('There was a type error!')\n",
    "    except ZeroDivisionError:\n",
    "        print('There was a zero division error!')\n",
    "    except Exception:\n",
    "        print('There was some sort of error!')\n",
    "\n",
    "    \n",
    "causeError()"
   ]
  },
  {
   "cell_type": "markdown",
   "id": "c921ff43",
   "metadata": {},
   "source": [
    "### Decorator - function\n",
    "A decorator is a special function that modifies the behavior of another function — without changing its code.\n",
    "Like wrapping a gift: the gift (function) stays the same, but the wrapping (decorator) adds something extra — like logging, error handling, timing ...\n",
    "\n",
    "1. define decorator function\n",
    "2. apply decorator above a function\n"
   ]
  },
  {
   "cell_type": "code",
   "execution_count": 260,
   "id": "8c88a96a",
   "metadata": {},
   "outputs": [
    {
     "name": "stdout",
     "output_type": "stream",
     "text": [
      "There was a zero division error!\n"
     ]
    }
   ],
   "source": [
    "# decorator function\n",
    "def handleException(func):\n",
    "    def wrapper(*args):\n",
    "        try:\n",
    "            func(*args)\n",
    "        except TypeError:\n",
    "            print('There was a type error!')\n",
    "        except ZeroDivisionError:\n",
    "            print('There was a zero division error!')\n",
    "        except Exception:\n",
    "            print('There was some sort of error!')\n",
    "    return wrapper\n",
    "\n",
    "# using the decorator\n",
    "@handleException\n",
    "def causeError():\n",
    "    return 1/0\n",
    "\n",
    "causeError()"
   ]
  },
  {
   "cell_type": "markdown",
   "id": "cbf8bc03",
   "metadata": {},
   "source": [
    "### Raise exception"
   ]
  },
  {
   "cell_type": "code",
   "execution_count": 261,
   "id": "7b15c7fd",
   "metadata": {},
   "outputs": [
    {
     "name": "stdout",
     "output_type": "stream",
     "text": [
      "There was some sort of error!\n"
     ]
    }
   ],
   "source": [
    "@handleException\n",
    "def raiseError(n):\n",
    "    if n == 0:\n",
    "        raise Exception()\n",
    "    print(n)\n",
    "    \n",
    "raiseError(0)"
   ]
  },
  {
   "cell_type": "code",
   "execution_count": 269,
   "id": "d6794f61",
   "metadata": {},
   "outputs": [
    {
     "name": "stdout",
     "output_type": "stream",
     "text": [
      "diff\n"
     ]
    }
   ],
   "source": [
    "class NonIntArgException(Exception):\n",
    "    pass\n",
    "\n",
    "def handleNonIntArgs(func):\n",
    "    def wrapper(*args):\n",
    "        for item in args:\n",
    "            if type(item) is not int:\n",
    "                raise NonIntArgException()\n",
    "        return func(*args)\n",
    "    return wrapper\n",
    "\n",
    "@handleNonIntArgs\n",
    "def sum(a, b, c):\n",
    "    return a + b + c\n",
    "\n",
    "try:\n",
    "    result = sum(1, 3, 'd')\n",
    "    print(f\"this should not be printed out\")\n",
    "except NonIntArgException as e:\n",
    "    print('diff')\n",
    "\n"
   ]
  },
  {
   "cell_type": "markdown",
   "id": "9e869b7f",
   "metadata": {},
   "source": [
    "## Threads & Processes\n",
    "\n",
    "a Process can contain multiple Threads\n",
    "Threads "
   ]
  },
  {
   "cell_type": "code",
   "execution_count": null,
   "id": "f6dc3546",
   "metadata": {},
   "outputs": [],
   "source": []
  },
  {
   "cell_type": "code",
   "execution_count": null,
   "id": "7641fc94",
   "metadata": {},
   "outputs": [],
   "source": []
  },
  {
   "cell_type": "code",
   "execution_count": null,
   "id": "6233cf56",
   "metadata": {},
   "outputs": [],
   "source": []
  },
  {
   "cell_type": "code",
   "execution_count": null,
   "id": "a838f57c",
   "metadata": {},
   "outputs": [],
   "source": []
  },
  {
   "cell_type": "code",
   "execution_count": null,
   "id": "ddb3ff8e",
   "metadata": {},
   "outputs": [],
   "source": []
  }
 ],
 "metadata": {
  "kernelspec": {
   "display_name": "Python 3",
   "language": "python",
   "name": "python3"
  },
  "language_info": {
   "codemirror_mode": {
    "name": "ipython",
    "version": 3
   },
   "file_extension": ".py",
   "mimetype": "text/x-python",
   "name": "python",
   "nbconvert_exporter": "python",
   "pygments_lexer": "ipython3",
   "version": "3.13.1"
  }
 },
 "nbformat": 4,
 "nbformat_minor": 5
}
